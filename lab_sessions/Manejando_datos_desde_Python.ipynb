{
  "nbformat": 4,
  "nbformat_minor": 0,
  "metadata": {
    "colab": {
      "provenance": []
    },
    "kernelspec": {
      "name": "python3",
      "display_name": "Python 3"
    },
    "language_info": {
      "name": "python"
    }
  },
  "cells": [
    {
      "cell_type": "markdown",
      "source": [],
      "metadata": {
        "id": "xTtIwpxOAagN"
      }
    },
    {
      "cell_type": "markdown",
      "source": [
        "# Manejo de datos RDF en Python. Carga, edición, consulta\n",
        "\n",
        "La librería más habitual para trabajar con RDF en Python es rdflib. Aunque existen alternativas, suelen construirse extendiendo rdflib de alguna manera.\n",
        "\n",
        "Ya has visto un ejemplo sobre cómo cargar datos en rdflib. En las siguientes líneas, símplemente cargaremos un grafo en memoria utilizando código similar al ejemplo que ya tenéis disponible en la asignatura.\n",
        "\n",
        "1º, instalamos clonamos este mismo repositorio para disponer de los ejemplos en el entorno de ejecución:"
      ],
      "metadata": {
        "id": "XoxodBJGAjVV"
      }
    },
    {
      "cell_type": "code",
      "source": [
        "!git clone https://github.com/cursosLabra/miw_websem2425.git"
      ],
      "metadata": {
        "colab": {
          "base_uri": "https://localhost:8080/"
        },
        "id": "hVi0ZNsWCnm3",
        "outputId": "1bb3057f-29f2-4b96-bee7-9be200550509"
      },
      "execution_count": 1,
      "outputs": [
        {
          "output_type": "stream",
          "name": "stdout",
          "text": [
            "Cloning into 'miw_websem2425'...\n",
            "remote: Enumerating objects: 24, done.\u001b[K\n",
            "remote: Counting objects: 100% (24/24), done.\u001b[K\n",
            "remote: Compressing objects: 100% (16/16), done.\u001b[K\n",
            "remote: Total 24 (delta 6), reused 17 (delta 5), pack-reused 0 (from 0)\u001b[K\n",
            "Receiving objects: 100% (24/24), 13.74 KiB | 1.72 MiB/s, done.\n",
            "Resolving deltas: 100% (6/6), done.\n"
          ]
        }
      ]
    },
    {
      "cell_type": "markdown",
      "source": [
        "Tras ello, instalamos rdflib y sus dependencias con pip."
      ],
      "metadata": {
        "id": "plDquCqFCqnH"
      }
    },
    {
      "cell_type": "code",
      "source": [
        "\n",
        "!pip install rdflib"
      ],
      "metadata": {
        "colab": {
          "base_uri": "https://localhost:8080/"
        },
        "id": "kMjlpoH2Cw4v",
        "outputId": "aa195d33-58fa-44c8-d8cc-aed61e97cbdb"
      },
      "execution_count": 2,
      "outputs": [
        {
          "output_type": "stream",
          "name": "stdout",
          "text": [
            "Collecting rdflib\n",
            "  Downloading rdflib-7.1.3-py3-none-any.whl.metadata (11 kB)\n",
            "Requirement already satisfied: pyparsing<4,>=2.1.0 in /usr/local/lib/python3.11/dist-packages (from rdflib) (3.2.1)\n",
            "Downloading rdflib-7.1.3-py3-none-any.whl (564 kB)\n",
            "\u001b[2K   \u001b[90m━━━━━━━━━━━━━━━━━━━━━━━━━━━━━━━━━━━━━━━━\u001b[0m \u001b[32m564.9/564.9 kB\u001b[0m \u001b[31m7.0 MB/s\u001b[0m eta \u001b[36m0:00:00\u001b[0m\n",
            "\u001b[?25hInstalling collected packages: rdflib\n",
            "Successfully installed rdflib-7.1.3\n"
          ]
        }
      ]
    },
    {
      "cell_type": "markdown",
      "source": [
        "Y ahora lanzamos código para parsear con rdflib el grafo de datos situado en /Introduction/"
      ],
      "metadata": {
        "id": "mjj9YY_eCy32"
      }
    },
    {
      "cell_type": "code",
      "source": [
        "\n",
        "from rdflib import Graph\n",
        "g = Graph()\n",
        "base_path = \"/content/miw_websem2425/Introduction/\"\n",
        "g.parse(base_path + \"example1.ttl\")\n",
        "g.parse(base_path + \"example2.ttl\")\n",
        "g.parse(base_path + \"example3.ttl\")\n",
        "print(g.serialize(format=\"turtle\"))"
      ],
      "metadata": {
        "colab": {
          "base_uri": "https://localhost:8080/"
        },
        "id": "y-lCCBcrDBZn",
        "outputId": "71898ecb-b1a9-475c-c336-e543a1518b98"
      },
      "execution_count": 3,
      "outputs": [
        {
          "output_type": "stream",
          "name": "stdout",
          "text": [
            "@prefix dc: <http://purl.org/dc/elements/1.1/> .\n",
            "@prefix uni: <http://uniovi.es/> .\n",
            "\n",
            "uni:biologia dc:creator uni:ana,\n",
            "        uni:juan .\n",
            "\n",
            "uni:derecho dc:creator uni:luis .\n",
            "\n",
            "uni:quimica dc:creator uni:ana,\n",
            "        uni:luis .\n",
            "\n",
            "uni:juan a uni:Profesor .\n",
            "\n",
            "uni:ana a uni:Profesor .\n",
            "\n",
            "uni:luis a uni:Becario .\n",
            "\n",
            "\n"
          ]
        }
      ]
    },
    {
      "cell_type": "markdown",
      "source": [
        "Una vez cargados los datos, vamos a ver algo de código para recorrerlos."
      ],
      "metadata": {
        "id": "E3Hh3C63EGO4"
      }
    },
    {
      "cell_type": "code",
      "source": [
        "# Los grafos de rdflib son iterables. Como tal, podemos recorrerlos con un bucle for each. Lo que tenemos en cada iteración es una tripleta\n",
        "\n",
        "for a_triple in g:\n",
        "  print(a_triple)"
      ],
      "metadata": {
        "colab": {
          "base_uri": "https://localhost:8080/"
        },
        "id": "qjgiVgo-EHiR",
        "outputId": "3c617352-2507-448d-bf79-9f2c6f1f52a2"
      },
      "execution_count": 4,
      "outputs": [
        {
          "output_type": "stream",
          "name": "stdout",
          "text": [
            "(rdflib.term.URIRef('http://uniovi.es/quimica'), rdflib.term.URIRef('http://purl.org/dc/elements/1.1/creator'), rdflib.term.URIRef('http://uniovi.es/ana'))\n",
            "(rdflib.term.URIRef('http://uniovi.es/luis'), rdflib.term.URIRef('http://www.w3.org/1999/02/22-rdf-syntax-ns#type'), rdflib.term.URIRef('http://uniovi.es/Becario'))\n",
            "(rdflib.term.URIRef('http://uniovi.es/quimica'), rdflib.term.URIRef('http://purl.org/dc/elements/1.1/creator'), rdflib.term.URIRef('http://uniovi.es/luis'))\n",
            "(rdflib.term.URIRef('http://uniovi.es/derecho'), rdflib.term.URIRef('http://purl.org/dc/elements/1.1/creator'), rdflib.term.URIRef('http://uniovi.es/luis'))\n",
            "(rdflib.term.URIRef('http://uniovi.es/biologia'), rdflib.term.URIRef('http://purl.org/dc/elements/1.1/creator'), rdflib.term.URIRef('http://uniovi.es/juan'))\n",
            "(rdflib.term.URIRef('http://uniovi.es/juan'), rdflib.term.URIRef('http://www.w3.org/1999/02/22-rdf-syntax-ns#type'), rdflib.term.URIRef('http://uniovi.es/Profesor'))\n",
            "(rdflib.term.URIRef('http://uniovi.es/ana'), rdflib.term.URIRef('http://www.w3.org/1999/02/22-rdf-syntax-ns#type'), rdflib.term.URIRef('http://uniovi.es/Profesor'))\n",
            "(rdflib.term.URIRef('http://uniovi.es/biologia'), rdflib.term.URIRef('http://purl.org/dc/elements/1.1/creator'), rdflib.term.URIRef('http://uniovi.es/ana'))\n"
          ]
        }
      ]
    },
    {
      "cell_type": "code",
      "source": [
        "# Las tripletas son tuplas de 3 elementos. Para los que no estéis muy habituados a trabajar en Python, una tupla es una lista inmutable. Las tuplas son, a su vez, iterables.\n",
        "for a_triple in g:\n",
        "  for elem in a_triple:\n",
        "    print(elem)\n",
        "  print(\"-----\")\n",
        "\n",
        "# Otra manera visual de recorrer las tripletas usando unpacking de Python\n",
        "for a_triple in g:\n",
        "  s, p, o = a_triple\n",
        "  print(s, p, o)\n"
      ],
      "metadata": {
        "colab": {
          "base_uri": "https://localhost:8080/"
        },
        "id": "sRhoo0EhE7Lo",
        "outputId": "7ce30a4c-2b75-4463-abe4-9b5bd1f1f945"
      },
      "execution_count": 5,
      "outputs": [
        {
          "output_type": "stream",
          "name": "stdout",
          "text": [
            "http://uniovi.es/quimica\n",
            "http://purl.org/dc/elements/1.1/creator\n",
            "http://uniovi.es/ana\n",
            "-----\n",
            "http://uniovi.es/luis\n",
            "http://www.w3.org/1999/02/22-rdf-syntax-ns#type\n",
            "http://uniovi.es/Becario\n",
            "-----\n",
            "http://uniovi.es/quimica\n",
            "http://purl.org/dc/elements/1.1/creator\n",
            "http://uniovi.es/luis\n",
            "-----\n",
            "http://uniovi.es/derecho\n",
            "http://purl.org/dc/elements/1.1/creator\n",
            "http://uniovi.es/luis\n",
            "-----\n",
            "http://uniovi.es/biologia\n",
            "http://purl.org/dc/elements/1.1/creator\n",
            "http://uniovi.es/juan\n",
            "-----\n",
            "http://uniovi.es/juan\n",
            "http://www.w3.org/1999/02/22-rdf-syntax-ns#type\n",
            "http://uniovi.es/Profesor\n",
            "-----\n",
            "http://uniovi.es/ana\n",
            "http://www.w3.org/1999/02/22-rdf-syntax-ns#type\n",
            "http://uniovi.es/Profesor\n",
            "-----\n",
            "http://uniovi.es/biologia\n",
            "http://purl.org/dc/elements/1.1/creator\n",
            "http://uniovi.es/ana\n",
            "-----\n",
            "http://uniovi.es/quimica http://purl.org/dc/elements/1.1/creator http://uniovi.es/ana\n",
            "http://uniovi.es/luis http://www.w3.org/1999/02/22-rdf-syntax-ns#type http://uniovi.es/Becario\n",
            "http://uniovi.es/quimica http://purl.org/dc/elements/1.1/creator http://uniovi.es/luis\n",
            "http://uniovi.es/derecho http://purl.org/dc/elements/1.1/creator http://uniovi.es/luis\n",
            "http://uniovi.es/biologia http://purl.org/dc/elements/1.1/creator http://uniovi.es/juan\n",
            "http://uniovi.es/juan http://www.w3.org/1999/02/22-rdf-syntax-ns#type http://uniovi.es/Profesor\n",
            "http://uniovi.es/ana http://www.w3.org/1999/02/22-rdf-syntax-ns#type http://uniovi.es/Profesor\n",
            "http://uniovi.es/biologia http://purl.org/dc/elements/1.1/creator http://uniovi.es/ana\n"
          ]
        }
      ]
    },
    {
      "cell_type": "markdown",
      "source": [
        "Graph de rdflib ofrece un método muy útil para recorrer tripletas y, potencialmente, hacer alguna consulta básica: el método Graph.triples(). Así funciona:"
      ],
      "metadata": {
        "id": "hjApAMgxGrDg"
      }
    },
    {
      "cell_type": "code",
      "source": [
        "# g.triples() es un método que espera 1 tupla de 3 elementos como parámetro. En caso de que esos 3 parámetros sean None, se comporta igual que al recorrer el grafo con un for each:\n",
        "for a_triple in g.triples(  (None, None, None)  ):\n",
        "  s, p, o = a_triple\n",
        "  print(s,p,o)"
      ],
      "metadata": {
        "colab": {
          "base_uri": "https://localhost:8080/"
        },
        "id": "I0lPGnUFHBw4",
        "outputId": "4e3a40ec-40bb-4b4f-f56a-cb8297a445be"
      },
      "execution_count": 6,
      "outputs": [
        {
          "output_type": "stream",
          "name": "stdout",
          "text": [
            "http://uniovi.es/quimica http://purl.org/dc/elements/1.1/creator http://uniovi.es/ana\n",
            "http://uniovi.es/luis http://www.w3.org/1999/02/22-rdf-syntax-ns#type http://uniovi.es/Becario\n",
            "http://uniovi.es/quimica http://purl.org/dc/elements/1.1/creator http://uniovi.es/luis\n",
            "http://uniovi.es/derecho http://purl.org/dc/elements/1.1/creator http://uniovi.es/luis\n",
            "http://uniovi.es/biologia http://purl.org/dc/elements/1.1/creator http://uniovi.es/juan\n",
            "http://uniovi.es/juan http://www.w3.org/1999/02/22-rdf-syntax-ns#type http://uniovi.es/Profesor\n",
            "http://uniovi.es/ana http://www.w3.org/1999/02/22-rdf-syntax-ns#type http://uniovi.es/Profesor\n",
            "http://uniovi.es/biologia http://purl.org/dc/elements/1.1/creator http://uniovi.es/ana\n"
          ]
        }
      ]
    },
    {
      "cell_type": "code",
      "source": [
        "# El método gana \"poder\" cuando damos un valor a alguno de los elementos de esa tupla. Por ejemplo:\n",
        "from rdflib import URIRef\n",
        "\n",
        "for a_triple in g.triples(  (None, URIRef('http://www.w3.org/1999/02/22-rdf-syntax-ns#type'), None)  ):\n",
        "  s, p, o = a_triple\n",
        "  print(s,p,o)"
      ],
      "metadata": {
        "colab": {
          "base_uri": "https://localhost:8080/"
        },
        "id": "0xjZ6jODH-uJ",
        "outputId": "87e8126e-6539-4eef-f4f1-dd0e42b52ce4"
      },
      "execution_count": 7,
      "outputs": [
        {
          "output_type": "stream",
          "name": "stdout",
          "text": [
            "http://uniovi.es/juan http://www.w3.org/1999/02/22-rdf-syntax-ns#type http://uniovi.es/Profesor\n",
            "http://uniovi.es/ana http://www.w3.org/1999/02/22-rdf-syntax-ns#type http://uniovi.es/Profesor\n",
            "http://uniovi.es/luis http://www.w3.org/1999/02/22-rdf-syntax-ns#type http://uniovi.es/Becario\n"
          ]
        }
      ]
    },
    {
      "cell_type": "markdown",
      "source": [],
      "metadata": {
        "id": "EzyqI1u-IhBS"
      }
    },
    {
      "cell_type": "code",
      "source": [
        "# Con el código anterior hemos recorrido todas las tripletas del grafo que tienen rdf:type como predicado. Cada una de las posiciones de esa tupla sirve para filtrar, si queremos, tripletas que no coincidan con el valor que utilicemos.\n",
        "\n",
        "# El primer elemento de la tupla fija un sujeto. Si es None, cualquier sujeto.\n",
        "# El segundo elemento de la tupla fija un predicado. Si es None, cualquier predicado.\n",
        "# El tercer elemento de la tupla fija un objeto. Si es None, cualquier objeto.\n",
        "\n",
        "# Esto nor permite incluso hacer \"consultas simples\". No son consultas en el sentido de que el resultado siempre son tripletas, estructura ?s, ?p ?o. No podemos sacar/introducir variables, pero sigue siendo útil.\n",
        "\n",
        "# Tripletas que contengan becarios:\n",
        "for a_triple in g.triples(  (None,\n",
        "                             URIRef('http://www.w3.org/1999/02/22-rdf-syntax-ns#type'),\n",
        "                             URIRef('http://uniovi.es/Becario')   )  ):\n",
        "  s, p, o = a_triple\n",
        "  print(s,p,o)\n"
      ],
      "metadata": {
        "colab": {
          "base_uri": "https://localhost:8080/"
        },
        "id": "kMaeh_4uJEL8",
        "outputId": "f8cd0492-45c6-46c8-de3a-9455b02057c8"
      },
      "execution_count": 8,
      "outputs": [
        {
          "output_type": "stream",
          "name": "stdout",
          "text": [
            "http://uniovi.es/luis http://www.w3.org/1999/02/22-rdf-syntax-ns#type http://uniovi.es/Becario\n"
          ]
        }
      ]
    },
    {
      "cell_type": "code",
      "source": [
        "# Tripletas  donde Ana sea sujeto:\n",
        "for a_triple in g.triples(  (URIRef('http://uniovi.es/ana'),\n",
        "                             None,\n",
        "                             None   )  ):\n",
        "  s, p, o = a_triple\n",
        "  print(s,p,o)\n"
      ],
      "metadata": {
        "colab": {
          "base_uri": "https://localhost:8080/"
        },
        "id": "4cn5ecAlKJk0",
        "outputId": "39b9e858-7ab0-4d4a-e4be-58dac64e6180"
      },
      "execution_count": 9,
      "outputs": [
        {
          "output_type": "stream",
          "name": "stdout",
          "text": [
            "http://uniovi.es/ana http://www.w3.org/1999/02/22-rdf-syntax-ns#type http://uniovi.es/Profesor\n"
          ]
        }
      ]
    },
    {
      "cell_type": "code",
      "source": [
        "# Tripletas donde Ana sea objeto\n",
        "for a_triple in g.triples(  (None,\n",
        "                             None,\n",
        "                             URIRef('http://uniovi.es/ana')   )  ):\n",
        "  s, p, o = a_triple\n",
        "  print(s,p,o)\n"
      ],
      "metadata": {
        "colab": {
          "base_uri": "https://localhost:8080/"
        },
        "id": "ol60LeE_Ke1D",
        "outputId": "dd612c63-611a-45e8-e808-c0f840ed4d49"
      },
      "execution_count": 10,
      "outputs": [
        {
          "output_type": "stream",
          "name": "stdout",
          "text": [
            "http://uniovi.es/biologia http://purl.org/dc/elements/1.1/creator http://uniovi.es/ana\n",
            "http://uniovi.es/quimica http://purl.org/dc/elements/1.1/creator http://uniovi.es/ana\n"
          ]
        }
      ]
    },
    {
      "cell_type": "markdown",
      "source": [
        "rdflib también nos proporciona mecanismos para hacer consultas de SPARQL reales contra los datos cargados un en un objeto Graph(). Bastará con crear un string con una consulta SPARQL con sintaxis válida y llamar al método de Graph query().\n"
      ],
      "metadata": {
        "id": "1YxLTRQHKn_L"
      }
    },
    {
      "cell_type": "code",
      "source": [
        "# Consulta para obtener pares instance-clase\n",
        "str_query = \"\"\"\n",
        "select * where {\n",
        "  ?s a ?o\n",
        "}\n",
        "\"\"\"\n",
        "query_result = g.query(str_query)\n",
        "\n",
        "# Los resultados se recorren por filas, quizá te recuerde a resultsets de librerías para ejecutar consultas SQL.\n",
        "# Cada fila contiene objeto de dominio de rdflib (URIRef, Literal...) en variables que se llaman exactamente como los nombres de variables en la consulta SPARQL\n",
        "for a_row in query_result:\n",
        "  an_instance = a_row.s\n",
        "  a_class = a_row.o\n",
        "  print(an_instance, a_class)\n",
        "\n"
      ],
      "metadata": {
        "colab": {
          "base_uri": "https://localhost:8080/"
        },
        "id": "jW0FGOA8Qfbu",
        "outputId": "05728912-c0b5-4feb-9ff0-af3f7b02fc15"
      },
      "execution_count": 11,
      "outputs": [
        {
          "output_type": "stream",
          "name": "stdout",
          "text": [
            "http://uniovi.es/juan http://uniovi.es/Profesor\n",
            "http://uniovi.es/ana http://uniovi.es/Profesor\n",
            "http://uniovi.es/luis http://uniovi.es/Becario\n"
          ]
        }
      ]
    },
    {
      "cell_type": "code",
      "source": [
        "# Solamente instancias de profesor:\n",
        "str_query = \"\"\"\n",
        "PREFIX uni: <http://uniovi.es/>\n",
        "\n",
        "select * where {\n",
        "  ?s a uni:Profesor\n",
        "}\n",
        "\"\"\"\n",
        "query_result = g.query(str_query)\n",
        "\n",
        "# Los resultados se recorren por filas, quizá te recuerde a resultsets de librerías para ejecutar consultas SQL.\n",
        "# Cada fila contiene objeto de dominio de rdflib (URIRef, Literal...) en variables que se llaman exactamente como los nombres de variables en la consulta SPARQL\n",
        "for a_row in query_result:\n",
        "  print(a_row.s)\n"
      ],
      "metadata": {
        "colab": {
          "base_uri": "https://localhost:8080/"
        },
        "id": "NHGzEw1PSVNQ",
        "outputId": "9d2f75db-84c6-4125-b51f-5653263e26db"
      },
      "execution_count": 12,
      "outputs": [
        {
          "output_type": "stream",
          "name": "stdout",
          "text": [
            "http://uniovi.es/juan\n",
            "http://uniovi.es/ana\n"
          ]
        }
      ]
    },
    {
      "cell_type": "markdown",
      "source": [
        "El código que hemos visto nos sirve para consultar datos del grafo, pero RDFlib también nos permite editar un grafo existente eliminando/añadiendo tripletas. Para hacer eso debemos de manejar, fundamentalmente, 3 clases:\n",
        "\n",
        "\n",
        "\n",
        "*   URIRef --> Nos permite instanciar objetos que representan URIs\n",
        "*   Literal --> Nos permite instancias cualquier tipo de literal. Los literales, además de su valor, pueden tener valores asociados como tipo de datos (string, int, float, date, bool, etc.), o etiqueta le lenguage (español, inglés, etc.).\n",
        "*   BNode --> Nos permite instancias nodos anónimos. Mientras que conservemos en nuestro programa una referencia a estos objetos, podremos vinclular un mismo nodo anónimo con varios elementos.\n",
        "\n",
        "No existe una clase para representar la idea de tripleta. Se añaden tripletas a un grafo mediante el método add, que espera recibir como parámetro una tupla conteniendo sujeto, predicado y objeto ordenados.\n",
        "\n",
        "\n"
      ],
      "metadata": {
        "id": "pXbuNsfIUEmx"
      }
    },
    {
      "cell_type": "code",
      "source": [
        "from rdflib import Literal\n",
        "# from rdflib import URIRef\n",
        "\n",
        "juan = URIRef(\"http://uniovi.es/juan\")\n",
        "age = URIRef(\"http://xmlns.com/foaf/0.1/age\")\n",
        "edad_juan = Literal(21, datatype=\"http://www.w3.org/2001/XMLSchema#\")  # rdflib hace inferencias de tipo adecuadas\n",
        "                                   # en general en función del tipo de datos de lo que se pase como primer valor al\n",
        "                                   # constructor. Pero no viene mal declarar tipos explícitos y asegurarse de que\n",
        "                                   # esto no fallará\n",
        "\n",
        "g.add( (juan, age, edad_juan)  )\n",
        "for a_triple in g.triples( (juan, None, None) ):\n",
        "  s,p,o = a_triple\n",
        "  print(s, p, o)"
      ],
      "metadata": {
        "colab": {
          "base_uri": "https://localhost:8080/"
        },
        "id": "CnFLdzz2VOMa",
        "outputId": "003d70f4-a989-447b-f9f2-d46aa3235525"
      },
      "execution_count": 13,
      "outputs": [
        {
          "output_type": "stream",
          "name": "stdout",
          "text": [
            "http://uniovi.es/juan http://www.w3.org/1999/02/22-rdf-syntax-ns#type http://uniovi.es/Profesor\n",
            "http://uniovi.es/juan http://xmlns.com/foaf/0.1/age 21\n"
          ]
        }
      ]
    },
    {
      "cell_type": "markdown",
      "source": [
        "Hay una cuarta clase que no es esencial, pero nos ayuda mucho a escribir código de edición de grafos: Namespace(). Podemos declarar un espacio de nombres y añadir sujetos/propiades de manera mucho más sencilla:"
      ],
      "metadata": {
        "id": "7TDwIgQYWhYu"
      }
    },
    {
      "cell_type": "code",
      "source": [
        "from rdflib import Namespace\n",
        "\n",
        "otracosa = Namespace(\"http://otracosa.es/\")\n",
        "uni = Namespace(\"http://uniovi.es/\")\n",
        "\n",
        "# rdflib ya tiene algunos namespaces precargados típicos, que podemos importaqr isn necesidad de cargar de cero:\n",
        "\n",
        "from rdflib import XSD\n",
        "\n",
        "g.add(   (uni.ana, otracosa.cantidad_ojos, Literal(2,datatype=XSD.int))   )\n",
        "\n",
        "for a_triple in g.triples( (uni.ana, None, None) ):\n",
        "  s,p,o = a_triple\n",
        "  print(s, p, o)\n"
      ],
      "metadata": {
        "colab": {
          "base_uri": "https://localhost:8080/"
        },
        "id": "43oUSnv_XljS",
        "outputId": "9e554b2e-b1e4-4693-d561-cc28936a1b45"
      },
      "execution_count": 14,
      "outputs": [
        {
          "output_type": "stream",
          "name": "stdout",
          "text": [
            "http://uniovi.es/ana http://www.w3.org/1999/02/22-rdf-syntax-ns#type http://uniovi.es/Profesor\n",
            "http://uniovi.es/ana http://otracosa.es/cantidad_ojos 2\n"
          ]
        }
      ]
    },
    {
      "cell_type": "markdown",
      "source": [
        "Si tenemos intención de serializar nuestro grafo, conviene hacer binding de los namespaces. Fíjate lo que ocurre con la lista de prefijos al tratar de serializar nuestor grafo actual:"
      ],
      "metadata": {
        "id": "ouidyocOZOaz"
      }
    },
    {
      "cell_type": "code",
      "source": [
        "print(g.serialize())"
      ],
      "metadata": {
        "colab": {
          "base_uri": "https://localhost:8080/"
        },
        "id": "LrAlJ9wEZleT",
        "outputId": "799acef9-83b5-494b-ec4b-310a1cefb8ef"
      },
      "execution_count": 15,
      "outputs": [
        {
          "output_type": "stream",
          "name": "stdout",
          "text": [
            "@prefix dc: <http://purl.org/dc/elements/1.1/> .\n",
            "@prefix foaf: <http://xmlns.com/foaf/0.1/> .\n",
            "@prefix ns1: <http://otracosa.es/> .\n",
            "@prefix uni: <http://uniovi.es/> .\n",
            "@prefix xsd: <http://www.w3.org/2001/XMLSchema#> .\n",
            "\n",
            "uni:biologia dc:creator uni:ana,\n",
            "        uni:juan .\n",
            "\n",
            "uni:derecho dc:creator uni:luis .\n",
            "\n",
            "uni:quimica dc:creator uni:ana,\n",
            "        uni:luis .\n",
            "\n",
            "uni:juan a uni:Profesor ;\n",
            "    foaf:age \"21\"^^xsd: .\n",
            "\n",
            "uni:ana a uni:Profesor ;\n",
            "    ns1:cantidad_ojos \"2\"^^xsd:int .\n",
            "\n",
            "uni:luis a uni:Becario .\n",
            "\n",
            "\n"
          ]
        }
      ]
    },
    {
      "cell_type": "markdown",
      "source": [
        "rdflib asignará prefijos \"guapos\" a los namespaces que haya parseado o que ya conozca (ya conoce FOAF). Pero aquellos que no, como http://otracosa.es/, les dará un valor por defecto, \"feo\".\n",
        "\n",
        "Esto no tiene por qué ser así. Podemos indicar cómo queremos que serialice nuestros namespaces con prefijos que tengan sentido para nosotros."
      ],
      "metadata": {
        "id": "moGkFWwxaaYs"
      }
    },
    {
      "cell_type": "code",
      "source": [
        "g.bind(\"o_c\", otracosa)\n",
        "print(g.serialize())"
      ],
      "metadata": {
        "colab": {
          "base_uri": "https://localhost:8080/"
        },
        "id": "4PdzvjMgalOm",
        "outputId": "3f36db1e-0bc2-44ed-f4f8-4b553edbf9ff"
      },
      "execution_count": 16,
      "outputs": [
        {
          "output_type": "stream",
          "name": "stdout",
          "text": [
            "@prefix dc: <http://purl.org/dc/elements/1.1/> .\n",
            "@prefix foaf: <http://xmlns.com/foaf/0.1/> .\n",
            "@prefix ns1: <http://otracosa.es/> .\n",
            "@prefix uni: <http://uniovi.es/> .\n",
            "@prefix xsd: <http://www.w3.org/2001/XMLSchema#> .\n",
            "\n",
            "uni:biologia dc:creator uni:ana,\n",
            "        uni:juan .\n",
            "\n",
            "uni:derecho dc:creator uni:luis .\n",
            "\n",
            "uni:quimica dc:creator uni:ana,\n",
            "        uni:luis .\n",
            "\n",
            "uni:juan a uni:Profesor ;\n",
            "    foaf:age \"21\"^^xsd: .\n",
            "\n",
            "uni:ana a uni:Profesor ;\n",
            "    ns1:cantidad_ojos \"2\"^^xsd:int .\n",
            "\n",
            "uni:luis a uni:Becario .\n",
            "\n",
            "\n"
          ]
        }
      ]
    },
    {
      "cell_type": "markdown",
      "source": [
        "rdflib, no obstante, nos proporciona herramientas para manipular y recorrer rdflib.Graphs. No nos proporciona formas de consumir contenido de un endpoint SPARQL, que es un caso de uso habitual. Para eso, debemos utilizar la librería SPARQLWrapper. Es de los mismos desarrolladores y comparte algunos objetos de modelo."
      ],
      "metadata": {
        "id": "vX0FIQREcT4l"
      }
    },
    {
      "cell_type": "code",
      "source": [
        "!pip install sparqlwrapper"
      ],
      "metadata": {
        "colab": {
          "base_uri": "https://localhost:8080/"
        },
        "id": "NIknNDAEc1w_",
        "outputId": "2d2623f7-99aa-41e8-f358-3a68c70b6519"
      },
      "execution_count": 17,
      "outputs": [
        {
          "output_type": "stream",
          "name": "stdout",
          "text": [
            "Collecting sparqlwrapper\n",
            "  Downloading SPARQLWrapper-2.0.0-py3-none-any.whl.metadata (2.0 kB)\n",
            "Requirement already satisfied: rdflib>=6.1.1 in /usr/local/lib/python3.11/dist-packages (from sparqlwrapper) (7.1.3)\n",
            "Requirement already satisfied: pyparsing<4,>=2.1.0 in /usr/local/lib/python3.11/dist-packages (from rdflib>=6.1.1->sparqlwrapper) (3.2.1)\n",
            "Downloading SPARQLWrapper-2.0.0-py3-none-any.whl (28 kB)\n",
            "Installing collected packages: sparqlwrapper\n",
            "Successfully installed sparqlwrapper-2.0.0\n"
          ]
        }
      ]
    },
    {
      "cell_type": "code",
      "source": [
        "from SPARQLWrapper import SPARQLWrapper, JSON\n",
        "\n",
        "sparql = SPARQLWrapper(\"http://dbpedia.org/sparql\")  # Construimos un objeto para acceder a cierto endpoint. En este caso, DBpedia\n",
        "sparql.setQuery(\"\"\"\n",
        "    PREFIX rdfs: <http://www.w3.org/2000/01/rdf-schema#>\n",
        "\n",
        "    SELECT ?label  WHERE {\n",
        "      <http://dbpedia.org/resource/Oviedo> rdfs:label ?label\n",
        "      }\"\"\"\n",
        "    )  # Consulta para traer todas las etiquetas de Oviedo en DBpedia (potencvialmente en distintas lenguas)\n",
        "\n",
        "sparql.setReturnFormat(JSON)  # Deberíamos configurar un formato de salida. Es habitual trabajar con JSON, pero tenemos más opciones\n",
        "results = sparql.query().convert()  # Query hace la consulta, convert adapta los datos a nuestro formato de salida\n",
        "for result in results[\"results\"][\"bindings\"]:  # En el nodo results-->bindings del JSON encontramos una línea con los resultados.\n",
        "    print(result[\"label\"][\"value\"]) # En cada línea encontraremos claves que hacen referencia a las variables de nuestra query.\n",
        "print(\"--------\")\n",
        "print(results[\"results\"][\"bindings\"][0]) # Cada uno de esos nodos de resultado no contiene solo el valor sino más datos asociados, como tipo de datos o etiqueta de lenguaje.\n",
        "                                         # No todos los bindings-->nombre de variable ofrecen los mismos campos. \"value\" siempre está, lo demás depende del tipo de datos que estés tratando.\n"
      ],
      "metadata": {
        "colab": {
          "base_uri": "https://localhost:8080/"
        },
        "id": "pB-z2558ef8n",
        "outputId": "23104570-67f2-4bcf-836b-9bd26eef132e"
      },
      "execution_count": 18,
      "outputs": [
        {
          "output_type": "stream",
          "name": "stdout",
          "text": [
            "Oviedo\n",
            "أبيط (إسبانيا)\n",
            "Oviedo\n",
            "Oviedo\n",
            "Oviedo\n",
            "Οβιέδο\n",
            "Oviedo\n",
            "Oviedo\n",
            "Oviedo\n",
            "Oviedo\n",
            "Oviedo\n",
            "Oviedo\n",
            "Oviedo\n",
            "オビエド\n",
            "오비에도\n",
            "Oviedo (stad)\n",
            "Oviedo\n",
            "Oviedo\n",
            "Овьедо\n",
            "Oviedo, Asturien\n",
            "Ов'єдо\n",
            "奥维耶多\n",
            "--------\n",
            "{'label': {'type': 'literal', 'xml:lang': 'en', 'value': 'Oviedo'}}\n"
          ]
        }
      ]
    },
    {
      "cell_type": "code",
      "source": [
        "\n",
        "\n",
        "sparql = SPARQLWrapper(\"http://dbpedia.org/sparql\")  # Construimos un objeto para acceder a cierto endpoint. En este caso, DBpedia\n",
        "sparql.setQuery(\"\"\"\n",
        "    SELECT ?p ?o  WHERE {\n",
        "      <http://dbpedia.org/resource/Oviedo> ?p ?o\n",
        "      } LIMIT 100\"\"\"\n",
        "    )  # Consulta para traer cosas sobre Oviedo (no más de 100)\n",
        "\n",
        "sparql.setReturnFormat(JSON)\n",
        "results = sparql.query().convert()\n",
        "for result in results[\"results\"][\"bindings\"]:\n",
        "    print(\"Par predicado-objeto: \" + result[\"p\"][\"value\"] + \" \" + result[\"o\"][\"value\"])\n",
        "    print(\"Aspecto de la fila de resultado: \" + str(result))\n",
        "    print()\n",
        "\n",
        "print(\"--------\")\n"
      ],
      "metadata": {
        "colab": {
          "base_uri": "https://localhost:8080/"
        },
        "id": "Y-ef4Q6shKiS",
        "outputId": "cac18e94-f4f2-46f3-80f8-1143c70e82aa"
      },
      "execution_count": 19,
      "outputs": [
        {
          "output_type": "stream",
          "name": "stdout",
          "text": [
            "Par predicado-objeto: http://www.w3.org/1999/02/22-rdf-syntax-ns#type http://www.w3.org/2002/07/owl#Thing\n",
            "Aspecto de la fila de resultado: {'p': {'type': 'uri', 'value': 'http://www.w3.org/1999/02/22-rdf-syntax-ns#type'}, 'o': {'type': 'uri', 'value': 'http://www.w3.org/2002/07/owl#Thing'}}\n",
            "\n",
            "Par predicado-objeto: http://www.w3.org/1999/02/22-rdf-syntax-ns#type http://dbpedia.org/ontology/Place\n",
            "Aspecto de la fila de resultado: {'p': {'type': 'uri', 'value': 'http://www.w3.org/1999/02/22-rdf-syntax-ns#type'}, 'o': {'type': 'uri', 'value': 'http://dbpedia.org/ontology/Place'}}\n",
            "\n",
            "Par predicado-objeto: http://www.w3.org/1999/02/22-rdf-syntax-ns#type http://dbpedia.org/ontology/Location\n",
            "Aspecto de la fila de resultado: {'p': {'type': 'uri', 'value': 'http://www.w3.org/1999/02/22-rdf-syntax-ns#type'}, 'o': {'type': 'uri', 'value': 'http://dbpedia.org/ontology/Location'}}\n",
            "\n",
            "Par predicado-objeto: http://www.w3.org/1999/02/22-rdf-syntax-ns#type http://schema.org/Place\n",
            "Aspecto de la fila de resultado: {'p': {'type': 'uri', 'value': 'http://www.w3.org/1999/02/22-rdf-syntax-ns#type'}, 'o': {'type': 'uri', 'value': 'http://schema.org/Place'}}\n",
            "\n",
            "Par predicado-objeto: http://www.w3.org/1999/02/22-rdf-syntax-ns#type http://www.wikidata.org/entity/Q3957\n",
            "Aspecto de la fila de resultado: {'p': {'type': 'uri', 'value': 'http://www.w3.org/1999/02/22-rdf-syntax-ns#type'}, 'o': {'type': 'uri', 'value': 'http://www.wikidata.org/entity/Q3957'}}\n",
            "\n",
            "Par predicado-objeto: http://www.w3.org/1999/02/22-rdf-syntax-ns#type http://www.wikidata.org/entity/Q486972\n",
            "Aspecto de la fila de resultado: {'p': {'type': 'uri', 'value': 'http://www.w3.org/1999/02/22-rdf-syntax-ns#type'}, 'o': {'type': 'uri', 'value': 'http://www.wikidata.org/entity/Q486972'}}\n",
            "\n",
            "Par predicado-objeto: http://www.w3.org/1999/02/22-rdf-syntax-ns#type http://dbpedia.org/ontology/PopulatedPlace\n",
            "Aspecto de la fila de resultado: {'p': {'type': 'uri', 'value': 'http://www.w3.org/1999/02/22-rdf-syntax-ns#type'}, 'o': {'type': 'uri', 'value': 'http://dbpedia.org/ontology/PopulatedPlace'}}\n",
            "\n",
            "Par predicado-objeto: http://www.w3.org/1999/02/22-rdf-syntax-ns#type http://dbpedia.org/class/yago/WikicatMunicipalitiesInAsturias\n",
            "Aspecto de la fila de resultado: {'p': {'type': 'uri', 'value': 'http://www.w3.org/1999/02/22-rdf-syntax-ns#type'}, 'o': {'type': 'uri', 'value': 'http://dbpedia.org/class/yago/WikicatMunicipalitiesInAsturias'}}\n",
            "\n",
            "Par predicado-objeto: http://www.w3.org/1999/02/22-rdf-syntax-ns#type http://dbpedia.org/class/yago/WikicatWorldHeritageSitesInSpain\n",
            "Aspecto de la fila de resultado: {'p': {'type': 'uri', 'value': 'http://www.w3.org/1999/02/22-rdf-syntax-ns#type'}, 'o': {'type': 'uri', 'value': 'http://dbpedia.org/class/yago/WikicatWorldHeritageSitesInSpain'}}\n",
            "\n",
            "Par predicado-objeto: http://www.w3.org/1999/02/22-rdf-syntax-ns#type http://www.w3.org/2003/01/geo/wgs84_pos#SpatialThing\n",
            "Aspecto de la fila de resultado: {'p': {'type': 'uri', 'value': 'http://www.w3.org/1999/02/22-rdf-syntax-ns#type'}, 'o': {'type': 'uri', 'value': 'http://www.w3.org/2003/01/geo/wgs84_pos#SpatialThing'}}\n",
            "\n",
            "Par predicado-objeto: http://www.w3.org/1999/02/22-rdf-syntax-ns#type http://dbpedia.org/class/yago/AdministrativeDistrict108491826\n",
            "Aspecto de la fila de resultado: {'p': {'type': 'uri', 'value': 'http://www.w3.org/1999/02/22-rdf-syntax-ns#type'}, 'o': {'type': 'uri', 'value': 'http://dbpedia.org/class/yago/AdministrativeDistrict108491826'}}\n",
            "\n",
            "Par predicado-objeto: http://www.w3.org/1999/02/22-rdf-syntax-ns#type http://dbpedia.org/class/yago/District108552138\n",
            "Aspecto de la fila de resultado: {'p': {'type': 'uri', 'value': 'http://www.w3.org/1999/02/22-rdf-syntax-ns#type'}, 'o': {'type': 'uri', 'value': 'http://dbpedia.org/class/yago/District108552138'}}\n",
            "\n",
            "Par predicado-objeto: http://www.w3.org/1999/02/22-rdf-syntax-ns#type http://dbpedia.org/class/yago/GeographicalArea108574314\n",
            "Aspecto de la fila de resultado: {'p': {'type': 'uri', 'value': 'http://www.w3.org/1999/02/22-rdf-syntax-ns#type'}, 'o': {'type': 'uri', 'value': 'http://dbpedia.org/class/yago/GeographicalArea108574314'}}\n",
            "\n",
            "Par predicado-objeto: http://www.w3.org/1999/02/22-rdf-syntax-ns#type http://dbpedia.org/class/yago/Location100027167\n",
            "Aspecto de la fila de resultado: {'p': {'type': 'uri', 'value': 'http://www.w3.org/1999/02/22-rdf-syntax-ns#type'}, 'o': {'type': 'uri', 'value': 'http://dbpedia.org/class/yago/Location100027167'}}\n",
            "\n",
            "Par predicado-objeto: http://www.w3.org/1999/02/22-rdf-syntax-ns#type http://dbpedia.org/class/yago/Municipality108626283\n",
            "Aspecto de la fila de resultado: {'p': {'type': 'uri', 'value': 'http://www.w3.org/1999/02/22-rdf-syntax-ns#type'}, 'o': {'type': 'uri', 'value': 'http://dbpedia.org/class/yago/Municipality108626283'}}\n",
            "\n",
            "Par predicado-objeto: http://www.w3.org/1999/02/22-rdf-syntax-ns#type http://dbpedia.org/class/yago/Object100002684\n",
            "Aspecto de la fila de resultado: {'p': {'type': 'uri', 'value': 'http://www.w3.org/1999/02/22-rdf-syntax-ns#type'}, 'o': {'type': 'uri', 'value': 'http://dbpedia.org/class/yago/Object100002684'}}\n",
            "\n",
            "Par predicado-objeto: http://www.w3.org/1999/02/22-rdf-syntax-ns#type http://dbpedia.org/class/yago/PhysicalEntity100001930\n",
            "Aspecto de la fila de resultado: {'p': {'type': 'uri', 'value': 'http://www.w3.org/1999/02/22-rdf-syntax-ns#type'}, 'o': {'type': 'uri', 'value': 'http://dbpedia.org/class/yago/PhysicalEntity100001930'}}\n",
            "\n",
            "Par predicado-objeto: http://www.w3.org/1999/02/22-rdf-syntax-ns#type http://dbpedia.org/class/yago/Region108630985\n",
            "Aspecto de la fila de resultado: {'p': {'type': 'uri', 'value': 'http://www.w3.org/1999/02/22-rdf-syntax-ns#type'}, 'o': {'type': 'uri', 'value': 'http://dbpedia.org/class/yago/Region108630985'}}\n",
            "\n",
            "Par predicado-objeto: http://www.w3.org/1999/02/22-rdf-syntax-ns#type http://dbpedia.org/class/yago/YagoGeoEntity\n",
            "Aspecto de la fila de resultado: {'p': {'type': 'uri', 'value': 'http://www.w3.org/1999/02/22-rdf-syntax-ns#type'}, 'o': {'type': 'uri', 'value': 'http://dbpedia.org/class/yago/YagoGeoEntity'}}\n",
            "\n",
            "Par predicado-objeto: http://www.w3.org/1999/02/22-rdf-syntax-ns#type http://dbpedia.org/class/yago/YagoLegalActorGeo\n",
            "Aspecto de la fila de resultado: {'p': {'type': 'uri', 'value': 'http://www.w3.org/1999/02/22-rdf-syntax-ns#type'}, 'o': {'type': 'uri', 'value': 'http://dbpedia.org/class/yago/YagoLegalActorGeo'}}\n",
            "\n",
            "Par predicado-objeto: http://www.w3.org/1999/02/22-rdf-syntax-ns#type http://dbpedia.org/class/yago/YagoPermanentlyLocatedEntity\n",
            "Aspecto de la fila de resultado: {'p': {'type': 'uri', 'value': 'http://www.w3.org/1999/02/22-rdf-syntax-ns#type'}, 'o': {'type': 'uri', 'value': 'http://dbpedia.org/class/yago/YagoPermanentlyLocatedEntity'}}\n",
            "\n",
            "Par predicado-objeto: http://www.w3.org/1999/02/22-rdf-syntax-ns#type http://dbpedia.org/ontology/City\n",
            "Aspecto de la fila de resultado: {'p': {'type': 'uri', 'value': 'http://www.w3.org/1999/02/22-rdf-syntax-ns#type'}, 'o': {'type': 'uri', 'value': 'http://dbpedia.org/ontology/City'}}\n",
            "\n",
            "Par predicado-objeto: http://www.w3.org/1999/02/22-rdf-syntax-ns#type http://dbpedia.org/ontology/Settlement\n",
            "Aspecto de la fila de resultado: {'p': {'type': 'uri', 'value': 'http://www.w3.org/1999/02/22-rdf-syntax-ns#type'}, 'o': {'type': 'uri', 'value': 'http://dbpedia.org/ontology/Settlement'}}\n",
            "\n",
            "Par predicado-objeto: http://www.w3.org/1999/02/22-rdf-syntax-ns#type http://dbpedia.org/ontology/Town\n",
            "Aspecto de la fila de resultado: {'p': {'type': 'uri', 'value': 'http://www.w3.org/1999/02/22-rdf-syntax-ns#type'}, 'o': {'type': 'uri', 'value': 'http://dbpedia.org/ontology/Town'}}\n",
            "\n",
            "Par predicado-objeto: http://www.w3.org/1999/02/22-rdf-syntax-ns#type http://dbpedia.org/class/yago/Site108651247\n",
            "Aspecto de la fila de resultado: {'p': {'type': 'uri', 'value': 'http://www.w3.org/1999/02/22-rdf-syntax-ns#type'}, 'o': {'type': 'uri', 'value': 'http://dbpedia.org/class/yago/Site108651247'}}\n",
            "\n",
            "Par predicado-objeto: http://www.w3.org/1999/02/22-rdf-syntax-ns#type http://dbpedia.org/class/yago/Tract108673395\n",
            "Aspecto de la fila de resultado: {'p': {'type': 'uri', 'value': 'http://www.w3.org/1999/02/22-rdf-syntax-ns#type'}, 'o': {'type': 'uri', 'value': 'http://dbpedia.org/class/yago/Tract108673395'}}\n",
            "\n",
            "Par predicado-objeto: http://www.w3.org/1999/02/22-rdf-syntax-ns#type http://dbpedia.org/class/yago/UrbanArea108675967\n",
            "Aspecto de la fila de resultado: {'p': {'type': 'uri', 'value': 'http://www.w3.org/1999/02/22-rdf-syntax-ns#type'}, 'o': {'type': 'uri', 'value': 'http://dbpedia.org/class/yago/UrbanArea108675967'}}\n",
            "\n",
            "Par predicado-objeto: http://www.w3.org/1999/02/22-rdf-syntax-ns#type http://dbpedia.org/class/yago/WikicatPopulatedPlacesEstablishedInThe8thCentury\n",
            "Aspecto de la fila de resultado: {'p': {'type': 'uri', 'value': 'http://www.w3.org/1999/02/22-rdf-syntax-ns#type'}, 'o': {'type': 'uri', 'value': 'http://dbpedia.org/class/yago/WikicatPopulatedPlacesEstablishedInThe8thCentury'}}\n",
            "\n",
            "Par predicado-objeto: http://www.w3.org/1999/02/22-rdf-syntax-ns#type http://umbel.org/umbel/rc/Location_Underspecified\n",
            "Aspecto de la fila de resultado: {'p': {'type': 'uri', 'value': 'http://www.w3.org/1999/02/22-rdf-syntax-ns#type'}, 'o': {'type': 'uri', 'value': 'http://umbel.org/umbel/rc/Location_Underspecified'}}\n",
            "\n",
            "Par predicado-objeto: http://www.w3.org/1999/02/22-rdf-syntax-ns#type http://umbel.org/umbel/rc/PopulatedPlace\n",
            "Aspecto de la fila de resultado: {'p': {'type': 'uri', 'value': 'http://www.w3.org/1999/02/22-rdf-syntax-ns#type'}, 'o': {'type': 'uri', 'value': 'http://umbel.org/umbel/rc/PopulatedPlace'}}\n",
            "\n",
            "Par predicado-objeto: http://www.w3.org/1999/02/22-rdf-syntax-ns#type http://umbel.org/umbel/rc/Village\n",
            "Aspecto de la fila de resultado: {'p': {'type': 'uri', 'value': 'http://www.w3.org/1999/02/22-rdf-syntax-ns#type'}, 'o': {'type': 'uri', 'value': 'http://umbel.org/umbel/rc/Village'}}\n",
            "\n",
            "Par predicado-objeto: http://www.w3.org/2000/01/rdf-schema#label Oviedo\n",
            "Aspecto de la fila de resultado: {'p': {'type': 'uri', 'value': 'http://www.w3.org/2000/01/rdf-schema#label'}, 'o': {'type': 'literal', 'xml:lang': 'en', 'value': 'Oviedo'}}\n",
            "\n",
            "Par predicado-objeto: http://www.w3.org/2000/01/rdf-schema#label أبيط (إسبانيا)\n",
            "Aspecto de la fila de resultado: {'p': {'type': 'uri', 'value': 'http://www.w3.org/2000/01/rdf-schema#label'}, 'o': {'type': 'literal', 'xml:lang': 'ar', 'value': 'أبيط (إسبانيا)'}}\n",
            "\n",
            "Par predicado-objeto: http://www.w3.org/2000/01/rdf-schema#label Oviedo\n",
            "Aspecto de la fila de resultado: {'p': {'type': 'uri', 'value': 'http://www.w3.org/2000/01/rdf-schema#label'}, 'o': {'type': 'literal', 'xml:lang': 'ca', 'value': 'Oviedo'}}\n",
            "\n",
            "Par predicado-objeto: http://www.w3.org/2000/01/rdf-schema#label Oviedo\n",
            "Aspecto de la fila de resultado: {'p': {'type': 'uri', 'value': 'http://www.w3.org/2000/01/rdf-schema#label'}, 'o': {'type': 'literal', 'xml:lang': 'cs', 'value': 'Oviedo'}}\n",
            "\n",
            "Par predicado-objeto: http://www.w3.org/2000/01/rdf-schema#label Oviedo\n",
            "Aspecto de la fila de resultado: {'p': {'type': 'uri', 'value': 'http://www.w3.org/2000/01/rdf-schema#label'}, 'o': {'type': 'literal', 'xml:lang': 'de', 'value': 'Oviedo'}}\n",
            "\n",
            "Par predicado-objeto: http://www.w3.org/2000/01/rdf-schema#label Οβιέδο\n",
            "Aspecto de la fila de resultado: {'p': {'type': 'uri', 'value': 'http://www.w3.org/2000/01/rdf-schema#label'}, 'o': {'type': 'literal', 'xml:lang': 'el', 'value': 'Οβιέδο'}}\n",
            "\n",
            "Par predicado-objeto: http://www.w3.org/2000/01/rdf-schema#label Oviedo\n",
            "Aspecto de la fila de resultado: {'p': {'type': 'uri', 'value': 'http://www.w3.org/2000/01/rdf-schema#label'}, 'o': {'type': 'literal', 'xml:lang': 'eo', 'value': 'Oviedo'}}\n",
            "\n",
            "Par predicado-objeto: http://www.w3.org/2000/01/rdf-schema#label Oviedo\n",
            "Aspecto de la fila de resultado: {'p': {'type': 'uri', 'value': 'http://www.w3.org/2000/01/rdf-schema#label'}, 'o': {'type': 'literal', 'xml:lang': 'eu', 'value': 'Oviedo'}}\n",
            "\n",
            "Par predicado-objeto: http://www.w3.org/2000/01/rdf-schema#label Oviedo\n",
            "Aspecto de la fila de resultado: {'p': {'type': 'uri', 'value': 'http://www.w3.org/2000/01/rdf-schema#label'}, 'o': {'type': 'literal', 'xml:lang': 'es', 'value': 'Oviedo'}}\n",
            "\n",
            "Par predicado-objeto: http://www.w3.org/2000/01/rdf-schema#label Oviedo\n",
            "Aspecto de la fila de resultado: {'p': {'type': 'uri', 'value': 'http://www.w3.org/2000/01/rdf-schema#label'}, 'o': {'type': 'literal', 'xml:lang': 'ga', 'value': 'Oviedo'}}\n",
            "\n",
            "Par predicado-objeto: http://www.w3.org/2000/01/rdf-schema#label Oviedo\n",
            "Aspecto de la fila de resultado: {'p': {'type': 'uri', 'value': 'http://www.w3.org/2000/01/rdf-schema#label'}, 'o': {'type': 'literal', 'xml:lang': 'in', 'value': 'Oviedo'}}\n",
            "\n",
            "Par predicado-objeto: http://www.w3.org/2000/01/rdf-schema#label Oviedo\n",
            "Aspecto de la fila de resultado: {'p': {'type': 'uri', 'value': 'http://www.w3.org/2000/01/rdf-schema#label'}, 'o': {'type': 'literal', 'xml:lang': 'fr', 'value': 'Oviedo'}}\n",
            "\n",
            "Par predicado-objeto: http://www.w3.org/2000/01/rdf-schema#label Oviedo\n",
            "Aspecto de la fila de resultado: {'p': {'type': 'uri', 'value': 'http://www.w3.org/2000/01/rdf-schema#label'}, 'o': {'type': 'literal', 'xml:lang': 'it', 'value': 'Oviedo'}}\n",
            "\n",
            "Par predicado-objeto: http://www.w3.org/2000/01/rdf-schema#label オビエド\n",
            "Aspecto de la fila de resultado: {'p': {'type': 'uri', 'value': 'http://www.w3.org/2000/01/rdf-schema#label'}, 'o': {'type': 'literal', 'xml:lang': 'ja', 'value': 'オビエド'}}\n",
            "\n",
            "Par predicado-objeto: http://www.w3.org/2000/01/rdf-schema#label 오비에도\n",
            "Aspecto de la fila de resultado: {'p': {'type': 'uri', 'value': 'http://www.w3.org/2000/01/rdf-schema#label'}, 'o': {'type': 'literal', 'xml:lang': 'ko', 'value': '오비에도'}}\n",
            "\n",
            "Par predicado-objeto: http://www.w3.org/2000/01/rdf-schema#label Oviedo (stad)\n",
            "Aspecto de la fila de resultado: {'p': {'type': 'uri', 'value': 'http://www.w3.org/2000/01/rdf-schema#label'}, 'o': {'type': 'literal', 'xml:lang': 'nl', 'value': 'Oviedo (stad)'}}\n",
            "\n",
            "Par predicado-objeto: http://www.w3.org/2000/01/rdf-schema#label Oviedo\n",
            "Aspecto de la fila de resultado: {'p': {'type': 'uri', 'value': 'http://www.w3.org/2000/01/rdf-schema#label'}, 'o': {'type': 'literal', 'xml:lang': 'pl', 'value': 'Oviedo'}}\n",
            "\n",
            "Par predicado-objeto: http://www.w3.org/2000/01/rdf-schema#label Oviedo\n",
            "Aspecto de la fila de resultado: {'p': {'type': 'uri', 'value': 'http://www.w3.org/2000/01/rdf-schema#label'}, 'o': {'type': 'literal', 'xml:lang': 'pt', 'value': 'Oviedo'}}\n",
            "\n",
            "Par predicado-objeto: http://www.w3.org/2000/01/rdf-schema#label Овьедо\n",
            "Aspecto de la fila de resultado: {'p': {'type': 'uri', 'value': 'http://www.w3.org/2000/01/rdf-schema#label'}, 'o': {'type': 'literal', 'xml:lang': 'ru', 'value': 'Овьедо'}}\n",
            "\n",
            "Par predicado-objeto: http://www.w3.org/2000/01/rdf-schema#label Oviedo, Asturien\n",
            "Aspecto de la fila de resultado: {'p': {'type': 'uri', 'value': 'http://www.w3.org/2000/01/rdf-schema#label'}, 'o': {'type': 'literal', 'xml:lang': 'sv', 'value': 'Oviedo, Asturien'}}\n",
            "\n",
            "Par predicado-objeto: http://www.w3.org/2000/01/rdf-schema#label Ов'єдо\n",
            "Aspecto de la fila de resultado: {'p': {'type': 'uri', 'value': 'http://www.w3.org/2000/01/rdf-schema#label'}, 'o': {'type': 'literal', 'xml:lang': 'uk', 'value': \"Ов'єдо\"}}\n",
            "\n",
            "Par predicado-objeto: http://www.w3.org/2000/01/rdf-schema#label 奥维耶多\n",
            "Aspecto de la fila de resultado: {'p': {'type': 'uri', 'value': 'http://www.w3.org/2000/01/rdf-schema#label'}, 'o': {'type': 'literal', 'xml:lang': 'zh', 'value': '奥维耶多'}}\n",
            "\n",
            "Par predicado-objeto: http://www.w3.org/2000/01/rdf-schema#comment Oviedo o Uviéu (en castellà i en asturià, tots dos cooficials) és una ciutat i municipi asturià d'origen medieval (segle viii), capital del Principat d'Astúries. És, a més, la capital comercial, de negocis, i el centre administratiu i universitari de la regió. Té 224.000 habitants en el municipi i 200.000 en la ciutat. Antics ciutadans del municipi emprenedors van batejar amb aquest mateix nom tres ciutats americanes: una al Paraguai, una a la República Dominicana i una als Estats Units d'Amèrica.\n",
            "Aspecto de la fila de resultado: {'p': {'type': 'uri', 'value': 'http://www.w3.org/2000/01/rdf-schema#comment'}, 'o': {'type': 'literal', 'xml:lang': 'ca', 'value': \"Oviedo o Uviéu (en castellà i en asturià, tots dos cooficials) és una ciutat i municipi asturià d'origen medieval (segle viii), capital del Principat d'Astúries. És, a més, la capital comercial, de negocis, i el centre administratiu i universitari de la regió. Té 224.000 habitants en el municipi i 200.000 en la ciutat. Antics ciutadans del municipi emprenedors van batejar amb aquest mateix nom tres ciutats americanes: una al Paraguai, una a la República Dominicana i una als Estats Units d'Amèrica.\"}}\n",
            "\n",
            "Par predicado-objeto: http://www.w3.org/2000/01/rdf-schema#comment Oviedo (astursky Uviéu) je město v severním Španělsku, hlavní město autonomního společenství a zároveň provincie Asturie. Bylo založeno roku 761 a žije zde přibližně 218 tisíc obyvatel. To je sice o něco méně než v nedalekém Gijónu, ale Oviedo těží ze svého postavení tradičního kulturního střediska Asturie. Ve městě působí fotbalový klub Real Oviedo. Oviedo leží v údolí řek a , pod dominantou hory Monte Naranco (634 m n. m.) Vzdálenost od Atlantiku je asi 30 km.\n",
            "Aspecto de la fila de resultado: {'p': {'type': 'uri', 'value': 'http://www.w3.org/2000/01/rdf-schema#comment'}, 'o': {'type': 'literal', 'xml:lang': 'cs', 'value': 'Oviedo (astursky Uviéu) je město v severním Španělsku, hlavní město autonomního společenství a zároveň provincie Asturie. Bylo založeno roku 761 a žije zde přibližně 218 tisíc obyvatel. To je sice o něco méně než v nedalekém Gijónu, ale Oviedo těží ze svého postavení tradičního kulturního střediska Asturie. Ve městě působí fotbalový klub Real Oviedo. Oviedo leží v údolí řek a , pod dominantou hory Monte Naranco (634 m n. m.) Vzdálenost od Atlantiku je asi 30 km.'}}\n",
            "\n",
            "Par predicado-objeto: http://www.w3.org/2000/01/rdf-schema#comment أُبيط (بالإسبانية: Oviedo أوفييدو)‏ هي مدينة تقع في شمال غرب إسبانيا تأسست في القرن الثامن الميلادي، وهي عاصمة منطقة أشتورية.\n",
            "Aspecto de la fila de resultado: {'p': {'type': 'uri', 'value': 'http://www.w3.org/2000/01/rdf-schema#comment'}, 'o': {'type': 'literal', 'xml:lang': 'ar', 'value': 'أُبيط (بالإسبانية: Oviedo أوفييدو)\\u200f هي مدينة تقع في شمال غرب إسبانيا تأسست في القرن الثامن الميلادي، وهي عاصمة منطقة أشتورية.'}}\n",
            "\n",
            "Par predicado-objeto: http://www.w3.org/2000/01/rdf-schema#comment Oviedo (asturisch: Uviéu oder Uvieo) ist die Hauptstadt der Autonomen Gemeinschaft Fürstentum Asturien im Norden Spaniens. Im 9. und 10. Jahrhundert war die Stadt die Residenz des damals unabhängigen Königreiches Asturien. Die Bewohner der Stadt werden „Ovetenser“ genannt.\n",
            "Aspecto de la fila de resultado: {'p': {'type': 'uri', 'value': 'http://www.w3.org/2000/01/rdf-schema#comment'}, 'o': {'type': 'literal', 'xml:lang': 'de', 'value': 'Oviedo (asturisch: Uviéu oder Uvieo) ist die Hauptstadt der Autonomen Gemeinschaft Fürstentum Asturien im Norden Spaniens. Im 9. und 10. Jahrhundert war die Stadt die Residenz des damals unabhängigen Königreiches Asturien. Die Bewohner der Stadt werden „Ovetenser“ genannt.'}}\n",
            "\n",
            "Par predicado-objeto: http://www.w3.org/2000/01/rdf-schema#comment Oviedo (asturieraz Uviéu eta ofizialki Oviedo/Uviéu) Asturiasko Printzerriko (Espainia) eta izen bereko eskualdearen hiriburua da. Udalerriak 220.074 biztanle zituen 2007ean, eta hiriak 214.883. Negozioen eta merkataritzaren hiriburua da, Oviedoko elizbarrutiko egoitza eta Asturiasko gune administratibo eta unibertsitarioa.\n",
            "Aspecto de la fila de resultado: {'p': {'type': 'uri', 'value': 'http://www.w3.org/2000/01/rdf-schema#comment'}, 'o': {'type': 'literal', 'xml:lang': 'eu', 'value': 'Oviedo (asturieraz Uviéu eta ofizialki Oviedo/Uviéu) Asturiasko Printzerriko (Espainia) eta izen bereko eskualdearen hiriburua da. Udalerriak 220.074 biztanle zituen 2007ean, eta hiriak 214.883. Negozioen eta merkataritzaren hiriburua da, Oviedoko elizbarrutiko egoitza eta Asturiasko gune administratibo eta unibertsitarioa.'}}\n",
            "\n",
            "Par predicado-objeto: http://www.w3.org/2000/01/rdf-schema#comment Is príomhchathair chomhphobail féinrialaithe Asturias sa Spáinn é Oviedo nó Uviéu in Astúiris. Tá Oviedo lonnaithe ó dheas na gcathracha Gijón (20cm) agus Avilés (25), atá suite ar chósta Bá na Bioscáine. Tá aeráid chósta ag Oviedo toisc nach bhfuil sé chomh fada sin ón gcósta. Bhí 220,567 duine ina gcónaí ann sa bhliain 2016. Is as Oviedo do Fernando Alonso, tiománaí Formula 1 curadh domhanda faoi dhó (2005 agus 2006).\n",
            "Aspecto de la fila de resultado: {'p': {'type': 'uri', 'value': 'http://www.w3.org/2000/01/rdf-schema#comment'}, 'o': {'type': 'literal', 'xml:lang': 'ga', 'value': 'Is príomhchathair chomhphobail féinrialaithe Asturias sa Spáinn é Oviedo nó Uviéu in Astúiris. Tá Oviedo lonnaithe ó dheas na gcathracha Gijón (20cm) agus Avilés (25), atá suite ar chósta Bá na Bioscáine. Tá aeráid chósta ag Oviedo toisc nach bhfuil sé chomh fada sin ón gcósta. Bhí 220,567 duine ina gcónaí ann sa bhliain 2016. Is as Oviedo do Fernando Alonso, tiománaí Formula 1 curadh domhanda faoi dhó (2005 agus 2006).'}}\n",
            "\n",
            "Par predicado-objeto: http://www.w3.org/2000/01/rdf-schema#comment Oviedo (Spanish: [oˈβjeðo]; Asturian: Uviéu [uˈβjeʊ]) is the capital city of the Principality of Asturias in northern Spain and the administrative and commercial centre of the region. It is also the name of the municipality that contains the city. Oviedo is located approximately 24 km (15 mi) southwest of Gijón and 23 km (14 mi) south of Avilés, both of which lie on the shoreline of the Bay of Biscay. Oviedo's proximity to the ocean of less than 30 kilometres (19 mi) in combination with its elevated position with areas of the city more than 300 metres above sea level causes the city to have a maritime climate, in spite of its not being located on the shoreline itself.\n",
            "Aspecto de la fila de resultado: {'p': {'type': 'uri', 'value': 'http://www.w3.org/2000/01/rdf-schema#comment'}, 'o': {'type': 'literal', 'xml:lang': 'en', 'value': \"Oviedo (Spanish: [oˈβjeðo]; Asturian: Uviéu [uˈβjeʊ]) is the capital city of the Principality of Asturias in northern Spain and the administrative and commercial centre of the region. It is also the name of the municipality that contains the city. Oviedo is located approximately 24 km (15 mi) southwest of Gijón and 23 km (14 mi) south of Avilés, both of which lie on the shoreline of the Bay of Biscay. Oviedo's proximity to the ocean of less than 30 kilometres (19 mi) in combination with its elevated position with areas of the city more than 300 metres above sea level causes the city to have a maritime climate, in spite of its not being located on the shoreline itself.\"}}\n",
            "\n",
            "Par predicado-objeto: http://www.w3.org/2000/01/rdf-schema#comment Oviedo merupakan kota yang terletak di sebelah utara Spanyol. Penduduknya berjumlah 200.000 jiwa (2004). \n",
            "* l \n",
            "* b \n",
            "* s\n",
            "Aspecto de la fila de resultado: {'p': {'type': 'uri', 'value': 'http://www.w3.org/2000/01/rdf-schema#comment'}, 'o': {'type': 'literal', 'xml:lang': 'in', 'value': 'Oviedo merupakan kota yang terletak di sebelah utara Spanyol. Penduduknya berjumlah 200.000 jiwa (2004). \\n* l \\n* b \\n* s'}}\n",
            "\n",
            "Par predicado-objeto: http://www.w3.org/2000/01/rdf-schema#comment オビエド（スペイン語: Oviedo、アストゥリアス語：Uviéu）は、スペイン・アストゥリアス州のムニシピオ（基礎自治体）。アストゥリアス州の州都である。\n",
            "Aspecto de la fila de resultado: {'p': {'type': 'uri', 'value': 'http://www.w3.org/2000/01/rdf-schema#comment'}, 'o': {'type': 'literal', 'xml:lang': 'ja', 'value': 'オビエド（スペイン語: Oviedo、アストゥリアス語：Uviéu）は、スペイン・アストゥリアス州のムニシピオ（基礎自治体）。アストゥリアス州の州都である。'}}\n",
            "\n",
            "Par predicado-objeto: http://www.w3.org/2000/01/rdf-schema#comment ( 다른 뜻에 대해서는 오비에도 (동음이의) 문서를 참고하십시오.) 오비에도(스페인어: Oviedo)는 스페인 서북부 아스투리아스 지방의 주도이다. 면적은 18.665km2이며, 평균 고도는 232m이다. 인구는 224,005명(2009년)이고, 인구밀도는 12000/km2이다. 공용어는 스페인어와 아스투리아스어이며, 자동차 경주 선수 페르난도 알론소의 출생지이기도 하다.\n",
            "Aspecto de la fila de resultado: {'p': {'type': 'uri', 'value': 'http://www.w3.org/2000/01/rdf-schema#comment'}, 'o': {'type': 'literal', 'xml:lang': 'ko', 'value': '( 다른 뜻에 대해서는 오비에도 (동음이의) 문서를 참고하십시오.) 오비에도(스페인어: Oviedo)는 스페인 서북부 아스투리아스 지방의 주도이다. 면적은 18.665km2이며, 평균 고도는 232m이다. 인구는 224,005명(2009년)이고, 인구밀도는 12000/km2이다. 공용어는 스페인어와 아스투리아스어이며, 자동차 경주 선수 페르난도 알론소의 출생지이기도 하다.'}}\n",
            "\n",
            "Par predicado-objeto: http://www.w3.org/2000/01/rdf-schema#comment Oviedo (Uviéu in asturiano) è una città di 220 020 abitanti della Spagna nord-occidentale, capoluogo del Principato delle Asturie (l'antica Ovetum). È punto di arrivo del cammino di San Salvador.\n",
            "Aspecto de la fila de resultado: {'p': {'type': 'uri', 'value': 'http://www.w3.org/2000/01/rdf-schema#comment'}, 'o': {'type': 'literal', 'xml:lang': 'it', 'value': \"Oviedo (Uviéu in asturiano) è una città di 220 020 abitanti della Spagna nord-occidentale, capoluogo del Principato delle Asturie (l'antica Ovetum). È punto di arrivo del cammino di San Salvador.\"}}\n",
            "\n",
            "Par predicado-objeto: http://www.w3.org/2000/01/rdf-schema#comment Oviedo (Asturisch: Uviéu) is de hoofdstad van en gemeente in de Spaanse provincie Asturië. Het is tevens de hoofdstad van de gelijknamige comarca. Oviedo heeft een oppervlakte van bijna 187 km². In 2021 telde Oviedo 217.552 inwoners.\n",
            "Aspecto de la fila de resultado: {'p': {'type': 'uri', 'value': 'http://www.w3.org/2000/01/rdf-schema#comment'}, 'o': {'type': 'literal', 'xml:lang': 'nl', 'value': 'Oviedo (Asturisch: Uviéu) is de hoofdstad van en gemeente in de Spaanse provincie Asturië. Het is tevens de hoofdstad van de gelijknamige comarca. Oviedo heeft een oppervlakte van bijna 187 km². In 2021 telde Oviedo 217.552 inwoners.'}}\n",
            "\n",
            "Par predicado-objeto: http://www.w3.org/2000/01/rdf-schema#comment Oviedo (ast. Uviéu) – miasto w Hiszpanii, historyczna i współczesna stolica Asturii.\n",
            "Aspecto de la fila de resultado: {'p': {'type': 'uri', 'value': 'http://www.w3.org/2000/01/rdf-schema#comment'}, 'o': {'type': 'literal', 'xml:lang': 'pl', 'value': 'Oviedo (ast. Uviéu) – miasto w Hiszpanii, historyczna i współczesna stolica Asturii.'}}\n",
            "\n",
            "Par predicado-objeto: http://www.w3.org/2000/01/rdf-schema#comment Овье́до (исп. Oviedo, астур. Uviéu, лат. Ovetus) — город в Испании, административный центр автономного сообщества Астурия. Муниципалитет находится в составе района (комарки) Овьедо.Крупный торговый и промышленный[уточнить] город. Известен как истинный заповедник дороманской архитектуры VIII—IX веков. В мире существует несколько других городов с названием Овьедо, и все они расположены на американских континентах: свой Овьедо есть в Мексике, Парагвае, Доминиканской республике и во Флориде.\n",
            "Aspecto de la fila de resultado: {'p': {'type': 'uri', 'value': 'http://www.w3.org/2000/01/rdf-schema#comment'}, 'o': {'type': 'literal', 'xml:lang': 'ru', 'value': 'Овье́до (исп. Oviedo, астур. Uviéu, лат. Ovetus) — город в Испании, административный центр автономного сообщества Астурия. Муниципалитет находится в составе района (комарки) Овьедо.Крупный торговый и промышленный[уточнить] город. Известен как истинный заповедник дороманской архитектуры VIII—IX веков. В мире существует несколько других городов с названием Овьедо, и все они расположены на американских континентах: свой Овьедо есть в Мексике, Парагвае, Доминиканской республике и во Флориде.'}}\n",
            "\n",
            "Par predicado-objeto: http://www.w3.org/2000/01/rdf-schema#comment Oviedo är en kommun i Spanien. Den ligger i provinsen Province of Asturias och regionen Asturien, i den norra delen av landet, 400 km nordväst om huvudstaden Madrid. Antalet invånare är 225 973. Klimatet i området är tempererat. Årsmedeltemperaturen i trakten är 12 °C. Den varmaste månaden är augusti, då medeltemperaturen är 20 °C, och den kallaste är december, med 4 °C. Genomsnittlig årsnederbörd är 1 344 millimeter. Den regnigaste månaden är april, med i genomsnitt 174 mm nederbörd, och den torraste är augusti, med 26 mm nederbörd.\n",
            "Aspecto de la fila de resultado: {'p': {'type': 'uri', 'value': 'http://www.w3.org/2000/01/rdf-schema#comment'}, 'o': {'type': 'literal', 'xml:lang': 'sv', 'value': 'Oviedo är en kommun i Spanien. Den ligger i provinsen Province of Asturias och regionen Asturien, i den norra delen av landet, 400 km nordväst om huvudstaden Madrid. Antalet invånare är 225 973. Klimatet i området är tempererat. Årsmedeltemperaturen i trakten är 12 °C. Den varmaste månaden är augusti, då medeltemperaturen är 20 °C, och den kallaste är december, med 4 °C. Genomsnittlig årsnederbörd är 1 344 millimeter. Den regnigaste månaden är april, med i genomsnitt 174 mm nederbörd, och den torraste är augusti, med 26 mm nederbörd.'}}\n",
            "\n",
            "Par predicado-objeto: http://www.w3.org/2000/01/rdf-schema#comment 奥维耶多（西班牙語：Oviedo；阿斯圖里亞斯語：Uviéu；拉丁語：Ovetus）是西班牙西北部坎塔布里亚山北麓的一个城市，阿斯图里亚斯自治区首府，也是该自治区的行政和商业中心，2007年人口214,883。\n",
            "Aspecto de la fila de resultado: {'p': {'type': 'uri', 'value': 'http://www.w3.org/2000/01/rdf-schema#comment'}, 'o': {'type': 'literal', 'xml:lang': 'zh', 'value': '奥维耶多（西班牙語：Oviedo；阿斯圖里亞斯語：Uviéu；拉丁語：Ovetus）是西班牙西北部坎塔布里亚山北麓的一个城市，阿斯图里亚斯自治区首府，也是该自治区的行政和商业中心，2007年人口214,883。'}}\n",
            "\n",
            "Par predicado-objeto: http://www.w3.org/2000/01/rdf-schema#comment Ов'єдо (ісп. Oviedo, аст. Uviéu) — муніципалітет і місто в Іспанії, в автономній спільноті Астурія, провінція Астурія, комарка . Осередок Ов'єдської архідіоцезії Католицької церкви. Головна окраса міста — , де зберігається цінна християнська реліквія Господній судар. В місті розташований університет. Площа муніципалітету — 186,65 км², населення муніципалітету — 224 005 ос. (2009); густота населення — . Висота над рівнем моря — 336 м. Поштовий індекс — 33001 - 33013.\n",
            "Aspecto de la fila de resultado: {'p': {'type': 'uri', 'value': 'http://www.w3.org/2000/01/rdf-schema#comment'}, 'o': {'type': 'literal', 'xml:lang': 'uk', 'value': \"Ов'єдо (ісп. Oviedo, аст. Uviéu) — муніципалітет і місто в Іспанії, в автономній спільноті Астурія, провінція Астурія, комарка . Осередок Ов'єдської архідіоцезії Католицької церкви. Головна окраса міста — , де зберігається цінна християнська реліквія Господній судар. В місті розташований університет. Площа муніципалітету — 186,65 км², населення муніципалітету — 224 005 ос. (2009); густота населення — . Висота над рівнем моря — 336 м. Поштовий індекс — 33001 - 33013.\"}}\n",
            "\n",
            "Par predicado-objeto: http://www.w3.org/2000/01/rdf-schema#comment Το Οβιέδο (ισπανικά: Oviedo, αστουριανά: Uviéu) είναι η πρωτεύουσα του Πριγκιπάτου των Αστουριών, στη βόρεια Ισπανία. Είναι επίσης και δήμος. Η πόλη το 2013 είχε 225.089 κατοίκους και είναι η δεύτερη μεγαλύτερη στις Αστούριες, μετά το Χιχόν, και η 21η μεγαλύτερη στη χώρα. Η πόλη πήρε το όνομά της από τη , ένα θρησκευτικό αντικείμενο το οποίο βρίσκεται στη περιοχή από τον 9ο αιώνα. Η πόλη είναι χτισμένη σε υψόμετρο 230 μέτρων, σε ένα λόφο ο οποίος περιβάλλεται από πεδιάδες και βουνά. Απέχει από το Χιχόν 29 χιλιόμετρα.\n",
            "Aspecto de la fila de resultado: {'p': {'type': 'uri', 'value': 'http://www.w3.org/2000/01/rdf-schema#comment'}, 'o': {'type': 'literal', 'xml:lang': 'el', 'value': 'Το Οβιέδο (ισπανικά: Oviedo, αστουριανά: Uviéu) είναι η πρωτεύουσα του Πριγκιπάτου των Αστουριών, στη βόρεια Ισπανία. Είναι επίσης και δήμος. Η πόλη το 2013 είχε 225.089 κατοίκους και είναι η δεύτερη μεγαλύτερη στις Αστούριες, μετά το Χιχόν, και η 21η μεγαλύτερη στη χώρα. Η πόλη πήρε το όνομά της από τη , ένα θρησκευτικό αντικείμενο το οποίο βρίσκεται στη περιοχή από τον 9ο αιώνα. Η πόλη είναι χτισμένη σε υψόμετρο 230 μέτρων, σε ένα λόφο ο οποίος περιβάλλεται από πεδιάδες και βουνά. Απέχει από το Χιχόν 29 χιλιόμετρα.'}}\n",
            "\n",
            "Par predicado-objeto: http://www.w3.org/2000/01/rdf-schema#comment Oviedo (en la asturia lingvo Uvieo aŭ Uviéu) estas urbo en Hispanio, ĉefurbo de la Princlando Asturio. Ĝiaj originoj devenas el la Alta Mezepoko (8-a jarcento), aŭ eĉ iom antaŭe, tiam nomata Ovetum. Same ĝi estas municipo kies ĉefurbo estas Oviedo mem. Oviedo estas la komerca, universitata, religia kaj administra centro de la Princlando, sidejo de la , de la oficialaj instancoj de Asturio, de la Universitato de Oviedo, de la , de la Premio Princino de Asturio samkiel la . Ĝi estas rekonita kiel unu el la urboj kun pli alta vivkvalito de Eŭropo laŭ la Eŭropa Komisiono.\n",
            "Aspecto de la fila de resultado: {'p': {'type': 'uri', 'value': 'http://www.w3.org/2000/01/rdf-schema#comment'}, 'o': {'type': 'literal', 'xml:lang': 'eo', 'value': 'Oviedo (en la asturia lingvo Uvieo aŭ Uviéu) estas urbo en Hispanio, ĉefurbo de la Princlando Asturio. Ĝiaj originoj devenas el la Alta Mezepoko (8-a jarcento), aŭ eĉ iom antaŭe, tiam nomata Ovetum. Same ĝi estas municipo kies ĉefurbo estas Oviedo mem. Oviedo estas la komerca, universitata, religia kaj administra centro de la Princlando, sidejo de la , de la oficialaj instancoj de Asturio, de la Universitato de Oviedo, de la , de la Premio Princino de Asturio samkiel la . Ĝi estas rekonita kiel unu el la urboj kun pli alta vivkvalito de Eŭropo laŭ la Eŭropa Komisiono.'}}\n",
            "\n",
            "Par predicado-objeto: http://www.w3.org/2000/01/rdf-schema#comment Oviedo (en asturiano Uviéu) es una ciudad española, capital del Principado de Asturias.​ Su origen se remonta a la Alta Edad Media —siglo VIII—, o incluso a antes, denominada en origen Ovetum.​ La ciudad es la capital del concejo homónimo (el equivalente asturiano al municipio) y forma parte de la parroquia de Oviedo. Ostenta los títulos de «muy noble, muy leal, benemérita, invicta, heroica y buena» que figuran en el escudo del municipio y así lo recoge una placa situada en la fachada del edificio del Ayuntamiento.\n",
            "Aspecto de la fila de resultado: {'p': {'type': 'uri', 'value': 'http://www.w3.org/2000/01/rdf-schema#comment'}, 'o': {'type': 'literal', 'xml:lang': 'es', 'value': 'Oviedo (en asturiano Uviéu) es una ciudad española, capital del Principado de Asturias.\\u200b Su origen se remonta a la Alta Edad Media —siglo VIII—, o incluso a antes, denominada en origen Ovetum.\\u200b La ciudad es la capital del concejo homónimo (el equivalente asturiano al municipio) y forma parte de la parroquia de Oviedo. Ostenta los títulos de «muy noble, muy leal, benemérita, invicta, heroica y buena» que figuran en el escudo del municipio y así lo recoge una placa situada en la fachada del edificio del Ayuntamiento.'}}\n",
            "\n",
            "Par predicado-objeto: http://www.w3.org/2000/01/rdf-schema#comment Oviedo (/oˈβjeðo/ ; en asturien : Uviéu /uˈβjeʊ/) est une ville du nord de l'Espagne fondée au VIIIe siècle, capitale de la communauté autonome et de la province des Asturies (qui est également une principauté). En 2018, la ville compte 220 020 habitants.\n",
            "Aspecto de la fila de resultado: {'p': {'type': 'uri', 'value': 'http://www.w3.org/2000/01/rdf-schema#comment'}, 'o': {'type': 'literal', 'xml:lang': 'fr', 'value': \"Oviedo (/oˈβjeðo/ ; en asturien : Uviéu /uˈβjeʊ/) est une ville du nord de l'Espagne fondée au VIIIe siècle, capitale de la communauté autonome et de la province des Asturies (qui est également une principauté). En 2018, la ville compte 220 020 habitants.\"}}\n",
            "\n",
            "Par predicado-objeto: http://www.w3.org/2000/01/rdf-schema#seeAlso http://dbpedia.org/resource/Timeline_of_Oviedo\n",
            "Aspecto de la fila de resultado: {'p': {'type': 'uri', 'value': 'http://www.w3.org/2000/01/rdf-schema#seeAlso'}, 'o': {'type': 'uri', 'value': 'http://dbpedia.org/resource/Timeline_of_Oviedo'}}\n",
            "\n",
            "Par predicado-objeto: http://www.w3.org/2000/01/rdf-schema#seeAlso http://dbpedia.org/resource/Spain\n",
            "Aspecto de la fila de resultado: {'p': {'type': 'uri', 'value': 'http://www.w3.org/2000/01/rdf-schema#seeAlso'}, 'o': {'type': 'uri', 'value': 'http://dbpedia.org/resource/Spain'}}\n",
            "\n",
            "Par predicado-objeto: http://www.w3.org/2000/01/rdf-schema#seeAlso http://dbpedia.org/resource/Sister_cities\n",
            "Aspecto de la fila de resultado: {'p': {'type': 'uri', 'value': 'http://www.w3.org/2000/01/rdf-schema#seeAlso'}, 'o': {'type': 'uri', 'value': 'http://dbpedia.org/resource/Sister_cities'}}\n",
            "\n",
            "Par predicado-objeto: http://www.w3.org/2000/01/rdf-schema#seeAlso http://dbpedia.org/resource/List_of_twin_towns\n",
            "Aspecto de la fila de resultado: {'p': {'type': 'uri', 'value': 'http://www.w3.org/2000/01/rdf-schema#seeAlso'}, 'o': {'type': 'uri', 'value': 'http://dbpedia.org/resource/List_of_twin_towns'}}\n",
            "\n",
            "Par predicado-objeto: http://xmlns.com/foaf/0.1/name Oviedo\n",
            "Aspecto de la fila de resultado: {'p': {'type': 'uri', 'value': 'http://xmlns.com/foaf/0.1/name'}, 'o': {'type': 'literal', 'xml:lang': 'en', 'value': 'Oviedo'}}\n",
            "\n",
            "Par predicado-objeto: http://xmlns.com/foaf/0.1/homepage http://www.oviedo.es/\n",
            "Aspecto de la fila de resultado: {'p': {'type': 'uri', 'value': 'http://xmlns.com/foaf/0.1/homepage'}, 'o': {'type': 'uri', 'value': 'http://www.oviedo.es/'}}\n",
            "\n",
            "Par predicado-objeto: http://www.w3.org/2004/02/skos/core#exactMatch http://globalwordnet.org/ili/i84096\n",
            "Aspecto de la fila de resultado: {'p': {'type': 'uri', 'value': 'http://www.w3.org/2004/02/skos/core#exactMatch'}, 'o': {'type': 'uri', 'value': 'http://globalwordnet.org/ili/i84096'}}\n",
            "\n",
            "Par predicado-objeto: http://dbpedia.org/property/name Oviedo\n",
            "Aspecto de la fila de resultado: {'p': {'type': 'uri', 'value': 'http://dbpedia.org/property/name'}, 'o': {'type': 'literal', 'xml:lang': 'en', 'value': 'Oviedo'}}\n",
            "\n",
            "Par predicado-objeto: http://www.w3.org/2003/01/geo/wgs84_pos#lat 43.36000061035156\n",
            "Aspecto de la fila de resultado: {'p': {'type': 'uri', 'value': 'http://www.w3.org/2003/01/geo/wgs84_pos#lat'}, 'o': {'type': 'typed-literal', 'datatype': 'http://www.w3.org/2001/XMLSchema#float', 'value': '43.36000061035156'}}\n",
            "\n",
            "Par predicado-objeto: http://www.w3.org/2003/01/geo/wgs84_pos#long -5.84499979019165\n",
            "Aspecto de la fila de resultado: {'p': {'type': 'uri', 'value': 'http://www.w3.org/2003/01/geo/wgs84_pos#long'}, 'o': {'type': 'typed-literal', 'datatype': 'http://www.w3.org/2001/XMLSchema#float', 'value': '-5.84499979019165'}}\n",
            "\n",
            "Par predicado-objeto: http://xmlns.com/foaf/0.1/depiction http://commons.wikimedia.org/wiki/Special:FilePath/1._Iglesia_San_Julián_de_los_Prados_(35752657690).jpg\n",
            "Aspecto de la fila de resultado: {'p': {'type': 'uri', 'value': 'http://xmlns.com/foaf/0.1/depiction'}, 'o': {'type': 'uri', 'value': 'http://commons.wikimedia.org/wiki/Special:FilePath/1._Iglesia_San_Julián_de_los_Prados_(35752657690).jpg'}}\n",
            "\n",
            "Par predicado-objeto: http://xmlns.com/foaf/0.1/depiction http://commons.wikimedia.org/wiki/Special:FilePath/11._Teatro_Campoamor_(36104135806).jpg\n",
            "Aspecto de la fila de resultado: {'p': {'type': 'uri', 'value': 'http://xmlns.com/foaf/0.1/depiction'}, 'o': {'type': 'uri', 'value': 'http://commons.wikimedia.org/wiki/Special:FilePath/11._Teatro_Campoamor_(36104135806).jpg'}}\n",
            "\n",
            "Par predicado-objeto: http://xmlns.com/foaf/0.1/depiction http://commons.wikimedia.org/wiki/Special:FilePath/15._Junta_General_del_Principado_de_Asturias_(36143894785).jpg\n",
            "Aspecto de la fila de resultado: {'p': {'type': 'uri', 'value': 'http://xmlns.com/foaf/0.1/depiction'}, 'o': {'type': 'uri', 'value': 'http://commons.wikimedia.org/wiki/Special:FilePath/15._Junta_General_del_Principado_de_Asturias_(36143894785).jpg'}}\n",
            "\n",
            "Par predicado-objeto: http://xmlns.com/foaf/0.1/depiction http://commons.wikimedia.org/wiki/Special:FilePath/Ayuntamiento-de-oviedo.jpg\n",
            "Aspecto de la fila de resultado: {'p': {'type': 'uri', 'value': 'http://xmlns.com/foaf/0.1/depiction'}, 'o': {'type': 'uri', 'value': 'http://commons.wikimedia.org/wiki/Special:FilePath/Ayuntamiento-de-oviedo.jpg'}}\n",
            "\n",
            "Par predicado-objeto: http://xmlns.com/foaf/0.1/depiction http://commons.wikimedia.org/wiki/Special:FilePath/C_44_OVIEDO_CENTRO.jpg\n",
            "Aspecto de la fila de resultado: {'p': {'type': 'uri', 'value': 'http://xmlns.com/foaf/0.1/depiction'}, 'o': {'type': 'uri', 'value': 'http://commons.wikimedia.org/wiki/Special:FilePath/C_44_OVIEDO_CENTRO.jpg'}}\n",
            "\n",
            "Par predicado-objeto: http://xmlns.com/foaf/0.1/depiction http://commons.wikimedia.org/wiki/Special:FilePath/C_44_OVIEDO_ESTE.jpg\n",
            "Aspecto de la fila de resultado: {'p': {'type': 'uri', 'value': 'http://xmlns.com/foaf/0.1/depiction'}, 'o': {'type': 'uri', 'value': 'http://commons.wikimedia.org/wiki/Special:FilePath/C_44_OVIEDO_ESTE.jpg'}}\n",
            "\n",
            "Par predicado-objeto: http://xmlns.com/foaf/0.1/depiction http://commons.wikimedia.org/wiki/Special:FilePath/C_44_OVIEDO_OESTE.jpg\n",
            "Aspecto de la fila de resultado: {'p': {'type': 'uri', 'value': 'http://xmlns.com/foaf/0.1/depiction'}, 'o': {'type': 'uri', 'value': 'http://commons.wikimedia.org/wiki/Special:FilePath/C_44_OVIEDO_OESTE.jpg'}}\n",
            "\n",
            "Par predicado-objeto: http://xmlns.com/foaf/0.1/depiction http://commons.wikimedia.org/wiki/Special:FilePath/Catedral_de_Oviedo_03.jpg\n",
            "Aspecto de la fila de resultado: {'p': {'type': 'uri', 'value': 'http://xmlns.com/foaf/0.1/depiction'}, 'o': {'type': 'uri', 'value': 'http://commons.wikimedia.org/wiki/Special:FilePath/Catedral_de_Oviedo_03.jpg'}}\n",
            "\n",
            "Par predicado-objeto: http://xmlns.com/foaf/0.1/depiction http://commons.wikimedia.org/wiki/Special:FilePath/Ceremonia_de_entrega_de_los_Premios_Príncipe_de_Asturias_2010.jpg\n",
            "Aspecto de la fila de resultado: {'p': {'type': 'uri', 'value': 'http://xmlns.com/foaf/0.1/depiction'}, 'o': {'type': 'uri', 'value': 'http://commons.wikimedia.org/wiki/Special:FilePath/Ceremonia_de_entrega_de_los_Premios_Príncipe_de_Asturias_2010.jpg'}}\n",
            "\n",
            "Par predicado-objeto: http://xmlns.com/foaf/0.1/depiction http://commons.wikimedia.org/wiki/Special:FilePath/Church_of_San_Isidoro_el_Real,_Oviedo_16.jpg\n",
            "Aspecto de la fila de resultado: {'p': {'type': 'uri', 'value': 'http://xmlns.com/foaf/0.1/depiction'}, 'o': {'type': 'uri', 'value': 'http://commons.wikimedia.org/wiki/Special:FilePath/Church_of_San_Isidoro_el_Real,_Oviedo_16.jpg'}}\n",
            "\n",
            "Par predicado-objeto: http://xmlns.com/foaf/0.1/depiction http://commons.wikimedia.org/wiki/Special:FilePath/Día_de_América_en_Asturias-2015_35.jpg\n",
            "Aspecto de la fila de resultado: {'p': {'type': 'uri', 'value': 'http://xmlns.com/foaf/0.1/depiction'}, 'o': {'type': 'uri', 'value': 'http://commons.wikimedia.org/wiki/Special:FilePath/Día_de_América_en_Asturias-2015_35.jpg'}}\n",
            "\n",
            "Par predicado-objeto: http://xmlns.com/foaf/0.1/depiction http://commons.wikimedia.org/wiki/Special:FilePath/Escudo_de_Oviedo.svg\n",
            "Aspecto de la fila de resultado: {'p': {'type': 'uri', 'value': 'http://xmlns.com/foaf/0.1/depiction'}, 'o': {'type': 'uri', 'value': 'http://commons.wikimedia.org/wiki/Special:FilePath/Escudo_de_Oviedo.svg'}}\n",
            "\n",
            "Par predicado-objeto: http://xmlns.com/foaf/0.1/depiction http://commons.wikimedia.org/wiki/Special:FilePath/Estadio_Municipal_Carlos_Tartiere_(Real_Oviedo_S.A.D.).jpg\n",
            "Aspecto de la fila de resultado: {'p': {'type': 'uri', 'value': 'http://xmlns.com/foaf/0.1/depiction'}, 'o': {'type': 'uri', 'value': 'http://commons.wikimedia.org/wiki/Special:FilePath/Estadio_Municipal_Carlos_Tartiere_(Real_Oviedo_S.A.D.).jpg'}}\n",
            "\n",
            "Par predicado-objeto: http://xmlns.com/foaf/0.1/depiction http://commons.wikimedia.org/wiki/Special:FilePath/Fachada_principal_del_Teatro_Campoamor.jpg\n",
            "Aspecto de la fila de resultado: {'p': {'type': 'uri', 'value': 'http://xmlns.com/foaf/0.1/depiction'}, 'o': {'type': 'uri', 'value': 'http://commons.wikimedia.org/wiki/Special:FilePath/Fachada_principal_del_Teatro_Campoamor.jpg'}}\n",
            "\n",
            "Par predicado-objeto: http://xmlns.com/foaf/0.1/depiction http://commons.wikimedia.org/wiki/Special:FilePath/La-Regenta-y-Catedral.jpg\n",
            "Aspecto de la fila de resultado: {'p': {'type': 'uri', 'value': 'http://xmlns.com/foaf/0.1/depiction'}, 'o': {'type': 'uri', 'value': 'http://commons.wikimedia.org/wiki/Special:FilePath/La-Regenta-y-Catedral.jpg'}}\n",
            "\n",
            "Par predicado-objeto: http://xmlns.com/foaf/0.1/depiction http://commons.wikimedia.org/wiki/Special:FilePath/Mapa_Parroquial_Uviéu_(color).jpg\n",
            "Aspecto de la fila de resultado: {'p': {'type': 'uri', 'value': 'http://xmlns.com/foaf/0.1/depiction'}, 'o': {'type': 'uri', 'value': 'http://commons.wikimedia.org/wiki/Special:FilePath/Mapa_Parroquial_Uviéu_(color).jpg'}}\n",
            "\n",
            "--------\n"
          ]
        }
      ]
    }
  ]
}