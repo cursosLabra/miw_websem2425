{
  "nbformat": 4,
  "nbformat_minor": 0,
  "metadata": {
    "colab": {
      "provenance": []
    },
    "kernelspec": {
      "name": "python3",
      "display_name": "Python 3"
    },
    "language_info": {
      "name": "python"
    }
  },
  "cells": [
    {
      "cell_type": "markdown",
      "source": [
        "# Escribiendo shapes\n",
        "\n",
        "Shape Expressions (ShEx) es un lenguaje para validar y describir grafos RDF. Aunque está en proceso de estandarización, no es el estandar del W3C para esta tarea. El W3C estandar es SHACL. ShEx y SHACL no son equivalentes pero sí parecidos en intención y elementos esenciales. En este curso usaremos principalmente ShEx porque, debido a su sintaxis, seguramente nos permita aprender más rápido.\n",
        "\n",
        "Como parte de tu tarea se solicita que realices una validación automática de RDF usando ShEx en Python. Sin embargo, probablemente no desarrollarás tu trabajo a través de Python. Estas herramientas web te resultarán de ayuda por su sencillez de uso y su capacidad para syntax highlighting:\n",
        "\n",
        "* Editor de ShEx: https://www.weso.es/YASHE/\n",
        "* Validador de ShEx: https://rdfshape.weso.es/shexValidate\n",
        "\n",
        "El proceso de validar un grafo con ShEx requiere de 3 entradas:\n",
        "* El propio grafo a validar.\n",
        "* El esquema ShEx que describe la estructura que debería tener el grafo.\n",
        "* Un shape map, es decir, un elemento que indica qué nodos del grafo deben conformar con qué shapes definidas en ShEx.\n",
        "\n",
        "Vamos a trabajar con unos datos de ejemplo disponibles en el repositorio de material de la asignatura:\n"
      ],
      "metadata": {
        "id": "9pt6GWtlNZvh"
      }
    },
    {
      "cell_type": "code",
      "execution_count": null,
      "metadata": {
        "colab": {
          "base_uri": "https://localhost:8080/"
        },
        "id": "e84QESOjNY1P",
        "outputId": "71317877-1cf8-4127-bf88-217acf4c0454"
      },
      "outputs": [
        {
          "output_type": "stream",
          "name": "stdout",
          "text": [
            "Cloning into 'miw_websem2425'...\n",
            "remote: Enumerating objects: 37, done.\u001b[K\n",
            "remote: Counting objects: 100% (37/37), done.\u001b[K\n",
            "remote: Compressing objects: 100% (26/26), done.\u001b[K\n",
            "remote: Total 37 (delta 13), reused 27 (delta 8), pack-reused 0 (from 0)\u001b[K\n",
            "Receiving objects: 100% (37/37), 48.48 KiB | 689.00 KiB/s, done.\n",
            "Resolving deltas: 100% (13/13), done.\n"
          ]
        }
      ],
      "source": [
        "!git clone https://github.com/cursosLabra/miw_websem2425.git"
      ]
    },
    {
      "cell_type": "code",
      "source": [
        "!pip install rdflib"
      ],
      "metadata": {
        "colab": {
          "base_uri": "https://localhost:8080/"
        },
        "id": "fQb7CNWWQ0_-",
        "outputId": "8f952b6d-36e1-40bb-f036-e201e9db52b5"
      },
      "execution_count": null,
      "outputs": [
        {
          "output_type": "stream",
          "name": "stdout",
          "text": [
            "Collecting rdflib\n",
            "  Downloading rdflib-7.1.3-py3-none-any.whl.metadata (11 kB)\n",
            "Requirement already satisfied: pyparsing<4,>=2.1.0 in /usr/local/lib/python3.11/dist-packages (from rdflib) (3.2.1)\n",
            "Downloading rdflib-7.1.3-py3-none-any.whl (564 kB)\n",
            "\u001b[?25l   \u001b[90m━━━━━━━━━━━━━━━━━━━━━━━━━━━━━━━━━━━━━━━━\u001b[0m \u001b[32m0.0/564.9 kB\u001b[0m \u001b[31m?\u001b[0m eta \u001b[36m-:--:--\u001b[0m\r\u001b[2K   \u001b[91m━━━━━━━━━━━━━━━━━━━━━━━━━━\u001b[0m\u001b[90m╺\u001b[0m\u001b[90m━━━━━━━━━━━━━\u001b[0m \u001b[32m368.6/564.9 kB\u001b[0m \u001b[31m12.1 MB/s\u001b[0m eta \u001b[36m0:00:01\u001b[0m\r\u001b[2K   \u001b[90m━━━━━━━━━━━━━━━━━━━━━━━━━━━━━━━━━━━━━━━━\u001b[0m \u001b[32m564.9/564.9 kB\u001b[0m \u001b[31m10.7 MB/s\u001b[0m eta \u001b[36m0:00:00\u001b[0m\n",
            "\u001b[?25hInstalling collected packages: rdflib\n",
            "Successfully installed rdflib-7.1.3\n"
          ]
        }
      ]
    },
    {
      "cell_type": "code",
      "source": [
        "from rdflib import Graph\n",
        "g = Graph()\n",
        "base_path = \"/content/miw_websem2425/lab_sessions/\"\n",
        "g.parse(base_path + \"books_data.ttl\")\n",
        "print(g.serialize(format=\"turtle\"))"
      ],
      "metadata": {
        "colab": {
          "base_uri": "https://localhost:8080/"
        },
        "id": "8nu7AarJQ4lF",
        "outputId": "9347c544-8010-4d06-e257-b1a1c306fe6d"
      },
      "execution_count": null,
      "outputs": [
        {
          "output_type": "stream",
          "name": "stdout",
          "text": [
            "@prefix dcterms: <http://purl.org/dc/terms/> .\n",
            "@prefix ex: <http://example.org/> .\n",
            "@prefix foaf: <http://xmlns.com/foaf/0.1/> .\n",
            "@prefix schema1: <http://schema.org/> .\n",
            "@prefix xsd: <http://www.w3.org/2001/XMLSchema#> .\n",
            "\n",
            "ex:book1 a schema1:Book ;\n",
            "    dcterms:title \"The Enchanted Forest\" ;\n",
            "    schema1:ISBN \"978-3-16-148410-0\" ;\n",
            "    schema1:author ex:author1 ;\n",
            "    schema1:datePublished \"2005-06-20\"^^xsd:date ;\n",
            "    schema1:genre ex:genre_fantasy ;\n",
            "    schema1:publisher ex:publisher1 ;\n",
            "    schema1:translatedInto \"Spanish\" .\n",
            "\n",
            "ex:book2 a schema1:Book ;\n",
            "    dcterms:title \"Stars Beyond Reach\" ;\n",
            "    schema1:ISBN \"978-1-23-456789-0\" ;\n",
            "    schema1:author ex:author2 ;\n",
            "    schema1:datePublished \"2010-09-15\"^^xsd:date ;\n",
            "    schema1:genre ex:genre_scifi ;\n",
            "    schema1:publisher ex:publisher2 ;\n",
            "    schema1:translatedInto \"French\" .\n",
            "\n",
            "ex:book3 a schema1:Book ;\n",
            "    dcterms:title \"The Hidden Cipher\" ;\n",
            "    schema1:ISBN \"978-0-98-765432-1\" ;\n",
            "    schema1:author ex:author3 ;\n",
            "    schema1:datePublished \"2018-03-10\"^^xsd:date ;\n",
            "    schema1:genre ex:genre_mystery,\n",
            "        ex:genre_scifi ;\n",
            "    schema1:publisher ex:publisher1 .\n",
            "\n",
            "ex:book4 a schema1:Book ;\n",
            "    dcterms:title \"Echoes of the Past\" ;\n",
            "    schema1:ISBN \"978-2-12-345678-9\" ;\n",
            "    schema1:author ex:author1 ;\n",
            "    schema1:datePublished \"2012-12-01\"^^xsd:date ;\n",
            "    schema1:genre ex:genre_mystery ;\n",
            "    schema1:publisher ex:publisher2 .\n",
            "\n",
            "ex:book5 a schema1:Book ;\n",
            "    dcterms:title \"Quantum Paradox\" ;\n",
            "    schema1:ISBN \"978-4-56-789012-3\" ;\n",
            "    schema1:author ex:author2 ;\n",
            "    schema1:datePublished \"2022-07-19\"^^xsd:date ;\n",
            "    schema1:genre ex:genre_scifi ;\n",
            "    schema1:publisher ex:publisher1 ;\n",
            "    schema1:translatedInto \"German\" .\n",
            "\n",
            "ex:genre_fantasy a schema1:Genre ;\n",
            "    schema1:name \"Fantasy\" .\n",
            "\n",
            "ex:author2 a schema1:Person ;\n",
            "    schema1:birthDate \"1975-02-22\"^^xsd:date ;\n",
            "    schema1:knows ex:author3 ;\n",
            "    schema1:nationality \"Spain\" ;\n",
            "    foaf:name \"Carlos Ramos\" .\n",
            "\n",
            "ex:author3 a schema1:Person ;\n",
            "    schema1:birthDate \"1990-11-03\"^^xsd:date ;\n",
            "    schema1:knows ex:author1 ;\n",
            "    schema1:nationality \"China\" ;\n",
            "    foaf:name \"Mei Lin\" .\n",
            "\n",
            "ex:genre_mystery a schema1:Genre ;\n",
            "    schema1:name \"Mystery\" .\n",
            "\n",
            "ex:publisher2 a schema1:Organization ;\n",
            "    schema1:name \"Mystic Books Ltd.\" .\n",
            "\n",
            "ex:author1 a schema1:Person ;\n",
            "    schema1:birthDate \"1980-07-15\"^^xsd:date ;\n",
            "    schema1:nationality \"USA\" ;\n",
            "    foaf:name \"Alice Johnson\" .\n",
            "\n",
            "ex:genre_scifi a schema1:Genre ;\n",
            "    schema1:name \"Science Fiction\" .\n",
            "\n",
            "ex:publisher1 a schema1:Organization ;\n",
            "    schema1:name \"Future Worlds Publishing\" .\n",
            "\n",
            "\n"
          ]
        }
      ]
    },
    {
      "cell_type": "markdown",
      "source": [
        "Para validar nuestro grafo, nosotros, como expertos de dominio, tenemos que saber qué estructuras topológicas deben darse en nuestro grafo (y describirlas con ShEx). En palabras llanas: qué propiedades se supone que vamos a asociar a cada tipo de nodo y qué esperamos encontrar del otro lado de esas propiedades.\n",
        "\n",
        "No es obligatorio, pero sí habitual y natural asociar una clase a una shape. Si describimos una clase para una shape lo que estaremos diciendo es que aquellos nodos que sean instancia de esa clase deben tener un vecindario inmediato que se ajuste en propiedades y nodos/literales conectados a lo que se indica para la shape de esa clase. Por ejemplo, si escribimos en una shape que la clase libro debería tener un autor y un género, lo que queremos decir es que todas las instancias de libro deberían tener su propio autor y su propio género.\n",
        "\n",
        "En ShEx, eso se expresaría de la siguiente manera (para verlos con syntax highlighting, te recomiendo que copiar estos ejemplos en YASHE):\n",
        "\n"
      ],
      "metadata": {
        "id": "5GBJtxEyR_n6"
      }
    },
    {
      "cell_type": "code",
      "source": [
        "str_shex_basica_para_libro = \"\"\"\n",
        "PREFIX :       <http://example.org/>\n",
        "PREFIX schema: <http://schema.org/>\n",
        "\n",
        ":shape_libro {\n",
        "  a [schema:Book] ;  # Indico que estos nodos tiene que tener como valor de rdf:type exactamente la URI schema:Book.\n",
        "  schema:author IRI ; # Indico que estos nodos tienen que tener exactamente un schema:author. Y el objeto de esta tripleta debe ser una IRI (no un BNode o un Literal)\n",
        "  schema:genre IRI\n",
        "}\n",
        "\n",
        "\"\"\""
      ],
      "metadata": {
        "id": "ilTPKtiRTL-e"
      },
      "execution_count": null,
      "outputs": []
    },
    {
      "cell_type": "markdown",
      "source": [
        "Esta shape, en realidad, está diciendo que los libros tienen que tener una porpiedad schema:author y otra schema:genre, pero no dice sí los nodos al otro lado de esa propiedad tienen que ser de tipo Persona o Género necesariamente. Para eso, lo más adecuado, sería definir también uans shapes para esos conceptos e indicar que, en lugar de IRI, los nodos al otro lado de esas propiedades deben de ser nodos que conformen con las shapes de Persona y Género:"
      ],
      "metadata": {
        "id": "AqAM_gg2UE7J"
      }
    },
    {
      "cell_type": "code",
      "source": [
        "str_2_shapes = \"\"\"\n",
        "PREFIX :       <http://example.org/>\n",
        "PREFIX schema: <http://schema.org/>\n",
        "\n",
        ":shape_libro {\n",
        "  a [schema:Book] ;\n",
        "  schema:author @:shape_Author ;\n",
        "  schema:genre @:shape_Genre\n",
        "}\n",
        "\n",
        ":shape_Author {\n",
        "   a [schema:Person] ;\n",
        "}\n",
        "\n",
        ":shape_Genre {\n",
        "   a [schema:Genre] ;\n",
        "}\n",
        "\n",
        "\"\"\""
      ],
      "metadata": {
        "id": "UGkjToZgVif0"
      },
      "execution_count": null,
      "outputs": []
    },
    {
      "cell_type": "markdown",
      "source": [
        "Este esquema aún no expresa todo lo que necesitamos expresar ni sobre libro ni sobre muchas otras entidades de nuestro grafo. Pero avanza en la dirección adecuada. Ya no vale cualqueir URI para poner como autor de un libro: la URI dle nodo que sea debe conformar con la shape_Author, es decir, tiene que ser de tipo persona.\n",
        "\n",
        "Otras características de la shape Libro, con los datos que manejamos, serían las siguientes:\n"
      ],
      "metadata": {
        "id": "PfrT-nWmWPyf"
      }
    },
    {
      "cell_type": "code",
      "source": [
        "shex_completa_libro = \"\"\"\n",
        "PREFIX dcterms: <http://purl.org/dc/terms/>\n",
        "PREFIX :       <http://example.org/>\n",
        "PREFIX schema: <http://schema.org/>\n",
        "PREFIX xsd: <http://www.w3.org/2001/XMLSchema#>\n",
        "\n",
        "\n",
        ":shape_libro {\n",
        "  a [schema:Book] ;\n",
        "  schema:author @:shape_Author ;\n",
        "  schema:genre @:shape_Genre + ; # Cambio de cardinalidad: un libro tiene entre 1 y muchos géneros.\n",
        "  dcterms:title xsd:string ; # Un título que apunte a un literal de tipo string.\n",
        "  schema:datePublished xsd:date ; # fecha de publicación que apunte a un literal fecha.\n",
        "  schema:ISBN xsd:string ? # Un libro tiene entre 0 y 1 códigos ISBN (de tipo string)\n",
        "}\n",
        "\n",
        ":shape_Author {\n",
        "   a [schema:Person] ;\n",
        "}\n",
        "\n",
        ":shape_Genre {\n",
        "   a [schema:Genre] ;\n",
        "}\n",
        "\"\"\""
      ],
      "metadata": {
        "id": "vMtMdSVWWpAl"
      },
      "execution_count": null,
      "outputs": []
    },
    {
      "cell_type": "markdown",
      "source": [
        "Con esto ya tenemos un grafo y un esquema (aún in completo, pero válido) para validar. Nos queda el shape map. El siguiente shape map indica que queremos comprobar si el nodo ex:book1 conforma con la shape de libro. Si copiar el contenido turtle, el esquema ShEx y el shape map en sus respectivos campos en RDFshape, podrás ejecutar una validación de grafo."
      ],
      "metadata": {
        "id": "DkTogXcXZV7N"
      }
    },
    {
      "cell_type": "code",
      "source": [
        "shape_map_book1_conforma_libro = \"\"\"\n",
        "\n",
        "<http://example.org/book1>@<http://example.org/shape_libro>\n",
        "\n",
        "\"\"\""
      ],
      "metadata": {
        "id": "Ch0VONwrZ64q"
      },
      "execution_count": null,
      "outputs": []
    },
    {
      "cell_type": "markdown",
      "source": [
        "Si has ejecutado esto en RDFShape, verás que los resultados de validación son para el nodo book1 pero también para author1 y genre_fantasy. Esto ha sido necesario porque, para confirmar que book1 es un shape_libro correcto, también se hubo de determinar si el género y autor con los que está conectado conforman con las shapes que deben conformar.\n",
        "\n",
        "Podríamos añadir más nodos a la validación separando secuencias como la del anterior shape map separadas por comas. Por ejemplo:\n"
      ],
      "metadata": {
        "id": "GERvLi4ZaB1i"
      }
    },
    {
      "cell_type": "code",
      "source": [
        "shape_map_varios_libros_conforman_libro = \"\"\"\n",
        "\n",
        "<http://example.org/book1>@<http://example.org/shape_libro>,\n",
        "<http://example.org/book2>@<http://example.org/shape_libro>,\n",
        "<http://example.org/book3>@<http://example.org/shape_libro>\n",
        "\n",
        "\"\"\""
      ],
      "metadata": {
        "id": "NRSbqjS0atlq"
      },
      "execution_count": null,
      "outputs": []
    },
    {
      "cell_type": "markdown",
      "source": [
        "Pero, obviamente, esto se vuelve impracticable en un caso real en el que queramos validar muchso nodos. Para eso tenemos unas asociaciones nodos-shape alternativas: las expresiones FOCUS. Estas expresiones definen un patrón de grafo con una pequeña consulta. Por ejemplo:"
      ],
      "metadata": {
        "id": "avbSH5BLa93-"
      }
    },
    {
      "cell_type": "code",
      "source": [
        "shape_map_todos_libros=\"\"\"\n",
        "\n",
        "{FOCUS a <http://schema.org/Book>}@<http://example.org/shape_libro>\n",
        "\n",
        "\"\"\""
      ],
      "metadata": {
        "id": "jQkERZp4bPvd"
      },
      "execution_count": null,
      "outputs": []
    },
    {
      "cell_type": "markdown",
      "source": [
        "El anterior shape_map sirve para validar TODOS los libros, entendiéndose por libro todo aquel nodo que en sea el sujeto de tripletas donde el predicado sea rdf:type y el objeto schema:Book. Es decir, todas las instancias de libro. En este patrón, los nodos objetivo de la validación son aquellos que encajen con la palabra clave FOCUS en el patrón de grafo descrito.\n",
        "\n",
        "Se pueden crear shape maps que combinen asociaciones de expresiones FOCUS a shapes con asignaciones de nodos individuales a shapes:"
      ],
      "metadata": {
        "id": "mZ7ZNNHZb7Bx"
      }
    },
    {
      "cell_type": "code",
      "source": [
        "shape_map_todos_libros_y_un_autor = \"\"\"\n",
        "{FOCUS a <http://schema.org/Book>}@<http://example.org/shape_libro>,\n",
        "<http://example.org/author1>@<http://example.org/shape_Author>\n",
        "\"\"\""
      ],
      "metadata": {
        "id": "BnCdq7wZcg9H"
      },
      "execution_count": null,
      "outputs": []
    },
    {
      "cell_type": "markdown",
      "source": [
        "La manera de hacer esta evaluación en Python es a través de una librería llamada PyShex. Desafortunadamente, pyshex no ofrece soporte completo a los shape maps. En cada validación, debemos pasar como parámetro el grafo, el esquema ShEx, la URI de un nodo que queremos validar y la URI de la shape contra la que lo queremos validar. A continuación tienes un ejemplo de uso de la librería. No obstante, en su repositorio de github, podrás encontrar otros Juoyter con más ejemplos: https://github.com/hsolbrig/PyShEx/tree/master/notebooks"
      ],
      "metadata": {
        "id": "kRAvLXTFde9r"
      }
    },
    {
      "cell_type": "code",
      "source": [
        "!pip install pyshex"
      ],
      "metadata": {
        "colab": {
          "base_uri": "https://localhost:8080/"
        },
        "id": "ZMrAGaxddwXf",
        "outputId": "14f2c36c-b71c-42a3-d003-0fe863dec2d7"
      },
      "execution_count": null,
      "outputs": [
        {
          "output_type": "stream",
          "name": "stdout",
          "text": [
            "Collecting pyshex\n",
            "  Downloading PyShEx-0.8.1-py3-none-any.whl.metadata (1.0 kB)\n",
            "Collecting cfgraph>=0.2.1 (from pyshex)\n",
            "  Downloading CFGraph-0.2.1.tar.gz (2.6 kB)\n",
            "  Preparing metadata (setup.py) ... \u001b[?25l\u001b[?25hdone\n",
            "Requirement already satisfied: chardet in /usr/local/lib/python3.11/dist-packages (from pyshex) (5.2.0)\n",
            "Collecting pyshexc==0.9.1 (from pyshex)\n",
            "  Downloading PyShExC-0.9.1-py2.py3-none-any.whl.metadata (940 bytes)\n",
            "Collecting rdflib-shim (from pyshex)\n",
            "  Downloading rdflib_shim-1.0.3-py3-none-any.whl.metadata (918 bytes)\n",
            "Requirement already satisfied: requests>=2.22.0 in /usr/local/lib/python3.11/dist-packages (from pyshex) (2.32.3)\n",
            "Collecting shexjsg>=0.8.2 (from pyshex)\n",
            "  Downloading ShExJSG-0.8.2-py2.py3-none-any.whl.metadata (997 bytes)\n",
            "Collecting sparqlslurper>=0.5.1 (from pyshex)\n",
            "  Downloading sparqlslurper-0.5.1-py3-none-any.whl.metadata (430 bytes)\n",
            "Collecting sparqlwrapper>=1.8.5 (from pyshex)\n",
            "  Downloading SPARQLWrapper-2.0.0-py3-none-any.whl.metadata (2.0 kB)\n",
            "Requirement already satisfied: urllib3 in /usr/local/lib/python3.11/dist-packages (from pyshex) (2.3.0)\n",
            "Collecting antlr4-python3-runtime~=4.9.3 (from pyshexc==0.9.1->pyshex)\n",
            "  Downloading antlr4-python3-runtime-4.9.3.tar.gz (117 kB)\n",
            "\u001b[2K     \u001b[90m━━━━━━━━━━━━━━━━━━━━━━━━━━━━━━━━━━━━━━━━\u001b[0m \u001b[32m117.0/117.0 kB\u001b[0m \u001b[31m4.7 MB/s\u001b[0m eta \u001b[36m0:00:00\u001b[0m\n",
            "\u001b[?25h  Preparing metadata (setup.py) ... \u001b[?25l\u001b[?25hdone\n",
            "Collecting jsonasobj>=1.2.1 (from pyshexc==0.9.1->pyshex)\n",
            "  Downloading jsonasobj-1.3.1-py3-none-any.whl.metadata (995 bytes)\n",
            "Collecting pyjsg>=0.11.10 (from pyshexc==0.9.1->pyshex)\n",
            "  Downloading PyJSG-0.11.10-py3-none-any.whl.metadata (978 bytes)\n",
            "Requirement already satisfied: rdflib>=0.4.2 in /usr/local/lib/python3.11/dist-packages (from cfgraph>=0.2.1->pyshex) (7.1.3)\n",
            "Requirement already satisfied: charset-normalizer<4,>=2 in /usr/local/lib/python3.11/dist-packages (from requests>=2.22.0->pyshex) (3.4.1)\n",
            "Requirement already satisfied: idna<4,>=2.5 in /usr/local/lib/python3.11/dist-packages (from requests>=2.22.0->pyshex) (3.10)\n",
            "Requirement already satisfied: certifi>=2017.4.17 in /usr/local/lib/python3.11/dist-packages (from requests>=2.22.0->pyshex) (2025.1.31)\n",
            "Collecting rdflib-jsonld==0.6.1 (from rdflib-shim->pyshex)\n",
            "  Downloading rdflib_jsonld-0.6.1-py2.py3-none-any.whl.metadata (3.4 kB)\n",
            "Requirement already satisfied: pyparsing<4,>=2.1.0 in /usr/local/lib/python3.11/dist-packages (from rdflib>=0.4.2->cfgraph>=0.2.1->pyshex) (3.2.1)\n",
            "Downloading PyShEx-0.8.1-py3-none-any.whl (51 kB)\n",
            "\u001b[2K   \u001b[90m━━━━━━━━━━━━━━━━━━━━━━━━━━━━━━━━━━━━━━━━\u001b[0m \u001b[32m51.9/51.9 kB\u001b[0m \u001b[31m4.3 MB/s\u001b[0m eta \u001b[36m0:00:00\u001b[0m\n",
            "\u001b[?25hDownloading PyShExC-0.9.1-py2.py3-none-any.whl (69 kB)\n",
            "\u001b[2K   \u001b[90m━━━━━━━━━━━━━━━━━━━━━━━━━━━━━━━━━━━━━━━━\u001b[0m \u001b[32m69.8/69.8 kB\u001b[0m \u001b[31m5.7 MB/s\u001b[0m eta \u001b[36m0:00:00\u001b[0m\n",
            "\u001b[?25hDownloading ShExJSG-0.8.2-py2.py3-none-any.whl (14 kB)\n",
            "Downloading sparqlslurper-0.5.1-py3-none-any.whl (6.6 kB)\n",
            "Downloading SPARQLWrapper-2.0.0-py3-none-any.whl (28 kB)\n",
            "Downloading rdflib_shim-1.0.3-py3-none-any.whl (5.2 kB)\n",
            "Downloading rdflib_jsonld-0.6.1-py2.py3-none-any.whl (16 kB)\n",
            "Downloading jsonasobj-1.3.1-py3-none-any.whl (4.4 kB)\n",
            "Downloading PyJSG-0.11.10-py3-none-any.whl (80 kB)\n",
            "\u001b[2K   \u001b[90m━━━━━━━━━━━━━━━━━━━━━━━━━━━━━━━━━━━━━━━━\u001b[0m \u001b[32m80.8/80.8 kB\u001b[0m \u001b[31m7.1 MB/s\u001b[0m eta \u001b[36m0:00:00\u001b[0m\n",
            "\u001b[?25hBuilding wheels for collected packages: cfgraph, antlr4-python3-runtime\n",
            "  Building wheel for cfgraph (setup.py) ... \u001b[?25l\u001b[?25hdone\n",
            "  Created wheel for cfgraph: filename=CFGraph-0.2.1-py3-none-any.whl size=2214 sha256=f574cbb2906d5495376de71b4061224491e51f36258a63cab27fd5a893353288\n",
            "  Stored in directory: /root/.cache/pip/wheels/8b/ac/8f/0f5b041561f10e6db39796e4ad11011b8f5a4b0a0ed74a5e61\n",
            "  Building wheel for antlr4-python3-runtime (setup.py) ... \u001b[?25l\u001b[?25hdone\n",
            "  Created wheel for antlr4-python3-runtime: filename=antlr4_python3_runtime-4.9.3-py3-none-any.whl size=144555 sha256=f6803f2c973c4067b3a798975afdf7a4af1cdd69214fe249c997d71fc765ff4c\n",
            "  Stored in directory: /root/.cache/pip/wheels/1a/97/32/461f837398029ad76911109f07047fde1d7b661a147c7c56d1\n",
            "Successfully built cfgraph antlr4-python3-runtime\n",
            "Installing collected packages: jsonasobj, antlr4-python3-runtime, pyjsg, sparqlwrapper, shexjsg, rdflib-jsonld, cfgraph, rdflib-shim, sparqlslurper, pyshexc, pyshex\n",
            "Successfully installed antlr4-python3-runtime-4.9.3 cfgraph-0.2.1 jsonasobj-1.3.1 pyjsg-0.11.10 pyshex-0.8.1 pyshexc-0.9.1 rdflib-jsonld-0.6.1 rdflib-shim-1.0.3 shexjsg-0.8.2 sparqlslurper-0.5.1 sparqlwrapper-2.0.0\n"
          ]
        }
      ]
    },
    {
      "cell_type": "code",
      "source": [
        "from pyshex import ShExEvaluator\n",
        "\n",
        "results = ShExEvaluator().evaluate(g.serialize(format=\"turtle\"), # grafo\n",
        "                                   shex_completa_libro,          # esquema shex\n",
        "                                   focus=\"http://example.org/book1\", # URI del nodo que vamos a evaluar\n",
        "                                   start=\"http://example.org/shape_libro\") # shape de inicio contra la que enfrentar el foco\n",
        "for r in results:\n",
        "    if r.result:\n",
        "        print(\"PASS\")\n",
        "    else:\n",
        "        print(f\"FAIL:\\n {r.reason}\")"
      ],
      "metadata": {
        "colab": {
          "base_uri": "https://localhost:8080/"
        },
        "id": "KWASVt24eEfb",
        "outputId": "5766e5bb-b462-412d-9bc8-c66d2d90a256"
      },
      "execution_count": null,
      "outputs": [
        {
          "output_type": "stream",
          "name": "stdout",
          "text": [
            "PASS\n"
          ]
        }
      ]
    },
    {
      "cell_type": "markdown",
      "source": [
        "Para realizar una validación completa de un dataset con pyshex, deberás llamar al evaluate() varias veces. Para rescatar todos los nodos de un tipo, seguramente lo más sencillo será que uses el método de rdflib que te permite rápidamente iterar sobre las instancias de cierta clase (consulta notebooks pasados sobre el manejo de RDF en Python con rdflib)."
      ],
      "metadata": {
        "id": "DyEjTSQ0jf7R"
      }
    }
  ]
}